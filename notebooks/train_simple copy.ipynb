{
 "cells": [
  {
   "cell_type": "markdown",
   "id": "2aac90e1",
   "metadata": {},
   "source": [
    "# Simple ViT Training - Matching ResNet Approach\n",
    "\n",
    "**Fixed**: Frozen backbone now works on MPS!  \n",
    "**Key**: Freeze BEFORE moving to device\n",
    "\n",
    "Simple pipeline:\n",
    "- Simple MLP head\n",
    "- Basic augmentations  \n",
    "- BCE loss with pos_weight\n",
    "- Adam optimizer (lr=1e-3)\n",
    "- Frozen backbone training\n",
    "\n",
    "**Goal**: Match ResNet's F1≈0.76"
   ]
  },
  {
   "cell_type": "code",
   "execution_count": 1,
   "id": "ee6abf23",
   "metadata": {},
   "outputs": [
    {
     "name": "stdout",
     "output_type": "stream",
     "text": [
      "PyTorch: 2.4.0\n",
      "MPS available: True\n"
     ]
    }
   ],
   "source": [
    "import os\n",
    "import sys\n",
    "import numpy as np\n",
    "import matplotlib.pyplot as plt\n",
    "from tqdm import tqdm\n",
    "from datetime import datetime\n",
    "from pathlib import Path\n",
    "\n",
    "np.random.seed(2708)\n",
    "\n",
    "import torch\n",
    "import torch.nn as nn\n",
    "from torch.utils.data import DataLoader\n",
    "from torchvision import transforms\n",
    "\n",
    "torch.manual_seed(2708)\n",
    "if torch.cuda.is_available():\n",
    "    torch.cuda.manual_seed(2708)\n",
    "if torch.backends.mps.is_available():\n",
    "    torch.mps.manual_seed(2708)\n",
    "\n",
    "os.environ['PYTORCH_ENABLE_MPS_FALLBACK'] = '1'\n",
    "sys.path.append('..')\n",
    "\n",
    "from dataset import PreprocessedDataset\n",
    "from models.vit_model import ViTClassifier\n",
    "\n",
    "print(f\"PyTorch: {torch.__version__}\")\n",
    "print(f\"MPS available: {torch.backends.mps.is_available()}\")"
   ]
  },
  {
   "cell_type": "code",
   "execution_count": 2,
   "id": "06876de5",
   "metadata": {},
   "outputs": [
    {
     "name": "stdout",
     "output_type": "stream",
     "text": [
      "Using device: mps\n"
     ]
    }
   ],
   "source": [
    "if torch.backends.mps.is_available():\n",
    "    device = torch.device(\"mps\")\n",
    "elif torch.cuda.is_available():\n",
    "    device = torch.device(\"cuda\")\n",
    "else:\n",
    "    device = torch.device(\"cpu\")\n",
    "\n",
    "print(f\"Using device: {device}\")"
   ]
  },
  {
   "cell_type": "code",
   "execution_count": 3,
   "id": "b58b8c89",
   "metadata": {},
   "outputs": [
    {
     "name": "stdout",
     "output_type": "stream",
     "text": [
      "Train: 1828 | Val: 228 | Test: 229\n"
     ]
    }
   ],
   "source": [
    "train_transforms = transforms.Compose([\n",
    "    transforms.RandomHorizontalFlip(),\n",
    "    transforms.RandomRotation(5),\n",
    "    transforms.RandomAffine(degrees=0, translate=(0.05, 0.05)),\n",
    "])\n",
    "\n",
    "data_root = '../DL_Project_Processed_Data'\n",
    "\n",
    "train_dataset = PreprocessedDataset(\n",
    "    root_dir=os.path.join(data_root, 'train'),\n",
    "    tranform=train_transforms\n",
    ")\n",
    "\n",
    "val_dataset = PreprocessedDataset(\n",
    "    root_dir=os.path.join(data_root, 'val'),\n",
    "    tranform=None\n",
    ")\n",
    "\n",
    "test_dataset = PreprocessedDataset(\n",
    "    root_dir=os.path.join(data_root, 'test'),\n",
    "    tranform=None\n",
    ")\n",
    "\n",
    "print(f\"Train: {len(train_dataset)} | Val: {len(val_dataset)} | Test: {len(test_dataset)}\")"
   ]
  },
  {
   "cell_type": "code",
   "execution_count": 4,
   "id": "ebd57811",
   "metadata": {},
   "outputs": [
    {
     "name": "stdout",
     "output_type": "stream",
     "text": [
      "Batch size: 32\n",
      "Train batches: 58\n"
     ]
    }
   ],
   "source": [
    "batch_size = 32\n",
    "\n",
    "train_loader = DataLoader(train_dataset, batch_size=batch_size, shuffle=True, num_workers=0)\n",
    "val_loader = DataLoader(val_dataset, batch_size=batch_size, shuffle=False, num_workers=0)\n",
    "test_loader = DataLoader(test_dataset, batch_size=batch_size, shuffle=False, num_workers=0)\n",
    "\n",
    "print(f\"Batch size: {batch_size}\")\n",
    "print(f\"Train batches: {len(train_loader)}\")"
   ]
  },
  {
   "cell_type": "code",
   "execution_count": 5,
   "id": "38fb9edd",
   "metadata": {},
   "outputs": [
    {
     "name": "stdout",
     "output_type": "stream",
     "text": [
      "Class weights:\n",
      "  epidural            : 3.0112\n",
      "  intraparenchymal    : 1.4084\n",
      "  intraventricular    : 1.5195\n",
      "  subarachnoid        : 1.2668\n",
      "  subdural            : 1.3689\n"
     ]
    }
   ],
   "source": [
    "labels_list = []\n",
    "for _, labels in train_dataset:\n",
    "    labels_list.append(labels.unsqueeze(0))\n",
    "\n",
    "all_labels = torch.cat(labels_list, dim=0).float()\n",
    "pos_counts = all_labels.sum(dim=0)\n",
    "neg_counts = len(train_dataset) - pos_counts\n",
    "\n",
    "weights = np.log1p((neg_counts / pos_counts).numpy())\n",
    "weights = torch.from_numpy(weights).float()\n",
    "\n",
    "class_names = ['epidural', 'intraparenchymal', 'intraventricular', 'subarachnoid', 'subdural']\n",
    "print(\"Class weights:\")\n",
    "for i, name in enumerate(class_names):\n",
    "    print(f\"  {name:20s}: {weights[i]:.4f}\")\n",
    "\n",
    "# Move to device AFTER model is ready\n",
    "weights_device = weights.to(device)"
   ]
  },
  {
   "cell_type": "markdown",
   "id": "7f2542a3",
   "metadata": {},
   "source": [
    "## Model Setup\n",
    "\n",
    "**Critical**: Freeze backbone BEFORE moving to device!"
   ]
  },
  {
   "cell_type": "code",
   "execution_count": 6,
   "id": "39aa90e1",
   "metadata": {},
   "outputs": [
    {
     "name": "stderr",
     "output_type": "stream",
     "text": [
      "Some weights of ViTModel were not initialized from the model checkpoint at google/vit-base-patch16-224 and are newly initialized: ['vit.pooler.dense.bias', 'vit.pooler.dense.weight']\n",
      "You should probably TRAIN this model on a down-stream task to be able to use it for predictions and inference.\n"
     ]
    },
    {
     "name": "stdout",
     "output_type": "stream",
     "text": [
      "ViT backbone frozen\n",
      "✓ Backbone frozen (training head + channel adapter only)\n",
      "\n",
      "Total params: 86.5M\n",
      "Trainable params: 0.1M\n"
     ]
    }
   ],
   "source": [
    "# Create model (on CPU initially)\n",
    "model = ViTClassifier(\n",
    "    model_name='google/vit-base-patch16-224',\n",
    "    num_classes=5,\n",
    "    pretrained=True,\n",
    "    input_channels=9,\n",
    "    dropout=0.3,\n",
    "    use_simple_head=True\n",
    ")\n",
    "\n",
    "# CRITICAL: Freeze BEFORE moving to device\n",
    "FREEZE_BACKBONE = True\n",
    "\n",
    "if FREEZE_BACKBONE:\n",
    "    model.freeze_backbone()\n",
    "    print(\"✓ Backbone frozen (training head + channel adapter only)\")\n",
    "else:\n",
    "    print(\"✓ Backbone unfrozen (training full model)\")\n",
    "\n",
    "# NOW move to device\n",
    "model = model.to(device)\n",
    "\n",
    "total_params = sum(p.numel() for p in model.parameters())\n",
    "trainable_params = sum(p.numel() for p in model.parameters() if p.requires_grad)\n",
    "print(f\"\\nTotal params: {total_params/1e6:.1f}M\")\n",
    "print(f\"Trainable params: {trainable_params/1e6:.1f}M\")"
   ]
  },
  {
   "cell_type": "markdown",
   "id": "a8006185",
   "metadata": {},
   "source": [
    "## Test MPS Compatibility"
   ]
  },
  {
   "cell_type": "code",
   "execution_count": 7,
   "id": "538ad1a2",
   "metadata": {},
   "outputs": [
    {
     "name": "stdout",
     "output_type": "stream",
     "text": [
      "Testing MPS with frozen backbone...\n",
      "============================================================\n",
      "✓ Forward: torch.Size([32, 5])\n",
      "✓ Backward: loss=0.8395\n",
      "============================================================\n",
      "✓✓✓ MPS WORKS WITH FROZEN BACKBONE! ✓✓✓\n",
      "============================================================\n"
     ]
    }
   ],
   "source": [
    "print(\"Testing MPS with frozen backbone...\")\n",
    "print(\"=\"*60)\n",
    "\n",
    "model.train()\n",
    "test_images, test_labels = next(iter(train_loader))\n",
    "test_images = test_images.to(device)\n",
    "test_labels = test_labels.to(device).float()\n",
    "\n",
    "# Forward\n",
    "test_outputs = model(test_images)\n",
    "print(f\"✓ Forward: {test_outputs.shape}\")\n",
    "\n",
    "# Backward\n",
    "criterion_test = nn.BCEWithLogitsLoss()\n",
    "loss = criterion_test(test_outputs, test_labels)\n",
    "loss.backward()\n",
    "print(f\"✓ Backward: loss={loss.item():.4f}\")\n",
    "\n",
    "print(\"=\"*60)\n",
    "print(\"✓✓✓ MPS WORKS WITH FROZEN BACKBONE! ✓✓✓\")\n",
    "print(\"=\"*60)"
   ]
  },
  {
   "cell_type": "code",
   "execution_count": 8,
   "id": "9e66b796",
   "metadata": {},
   "outputs": [
    {
     "name": "stdout",
     "output_type": "stream",
     "text": [
      "Training setup:\n",
      "  Loss: BCEWithLogitsLoss\n",
      "  Optimizer: Adam (lr=1e-3, wd=1e-6)\n",
      "  Early stopping: patience=10\n"
     ]
    }
   ],
   "source": [
    "criterion = nn.BCEWithLogitsLoss(pos_weight=weights_device)\n",
    "optimizer = torch.optim.Adam(model.parameters(), lr=1e-3, weight_decay=1e-6)\n",
    "\n",
    "print(\"Training setup:\")\n",
    "print(\"  Loss: BCEWithLogitsLoss\")\n",
    "print(\"  Optimizer: Adam (lr=1e-3, wd=1e-6)\")\n",
    "print(\"  Early stopping: patience=10\")"
   ]
  },
  {
   "cell_type": "code",
   "execution_count": 9,
   "id": "fdd3d649",
   "metadata": {},
   "outputs": [],
   "source": [
    "def train_validate_model(model, train_loader, val_loader, criterion, optimizer, num_epochs, device, patience=10):\n",
    "    train_losses, train_accuracies, val_losses, val_accuracies = [], [], [], []\n",
    "    best_val_loss = float('inf')\n",
    "    patience_counter = 0\n",
    "    best_model_state = None\n",
    "    \n",
    "    for epoch in range(num_epochs):\n",
    "        # Training\n",
    "        model.train()\n",
    "        train_loss = 0.0\n",
    "        train_correct = 0\n",
    "        \n",
    "        for images, labels in tqdm(train_loader, desc=f\"[Train] Epoch {epoch+1}\"):\n",
    "            images, labels = images.to(device), labels.to(device).float()\n",
    "            \n",
    "            optimizer.zero_grad()\n",
    "            outputs = model(images)\n",
    "            loss = criterion(outputs, labels)\n",
    "            loss.backward()\n",
    "            optimizer.step()\n",
    "            \n",
    "            train_loss += loss.item() * images.size(0)\n",
    "            preds = (torch.sigmoid(outputs) > 0.5).float()\n",
    "            train_correct += (preds == labels).sum().item()\n",
    "        \n",
    "        train_loss /= len(train_loader.dataset)\n",
    "        train_acc = train_correct / (len(train_loader.dataset) * 5)\n",
    "        train_losses.append(train_loss)\n",
    "        train_accuracies.append(train_acc)\n",
    "        \n",
    "        # Validation\n",
    "        model.eval()\n",
    "        val_loss = 0.0\n",
    "        val_correct = 0\n",
    "        \n",
    "        with torch.no_grad():\n",
    "            for images, labels in val_loader:\n",
    "                images, labels = images.to(device), labels.to(device).float()\n",
    "                outputs = model(images)\n",
    "                val_loss += criterion(outputs, labels).item() * images.size(0)\n",
    "                preds = (torch.sigmoid(outputs) > 0.5).float()\n",
    "                val_correct += (preds == labels).sum().item()\n",
    "        \n",
    "        val_loss /= len(val_loader.dataset)\n",
    "        val_acc = val_correct / (len(val_loader.dataset) * 5)\n",
    "        val_losses.append(val_loss)\n",
    "        val_accuracies.append(val_acc)\n",
    "        \n",
    "        print(f\"Epoch {epoch+1} | Train: {train_loss:.4f}/{train_acc:.4f} | Val: {val_loss:.4f}/{val_acc:.4f}\")\n",
    "        \n",
    "        if val_loss < best_val_loss:\n",
    "            best_val_loss = val_loss\n",
    "            patience_counter = 0\n",
    "            best_model_state = {k: v.clone() for k, v in model.state_dict().items()}\n",
    "        else:\n",
    "            patience_counter += 1\n",
    "        \n",
    "        if patience_counter >= patience:\n",
    "            print(f\"Early stopping at epoch {epoch+1}\")\n",
    "            model.load_state_dict(best_model_state)\n",
    "            break\n",
    "    \n",
    "    return train_losses, train_accuracies, val_losses, val_accuracies"
   ]
  },
  {
   "cell_type": "code",
   "execution_count": 10,
   "id": "5f1185c6",
   "metadata": {},
   "outputs": [
    {
     "name": "stdout",
     "output_type": "stream",
     "text": [
      "Training on mps with frozen backbone...\n",
      "Checkpoint: checkpoints/simple_vit_20251020_211815\n",
      "\n"
     ]
    },
    {
     "name": "stderr",
     "output_type": "stream",
     "text": [
      "[Train] Epoch 1: 100%|██████████| 58/58 [01:36<00:00,  1.67s/it]\n"
     ]
    },
    {
     "name": "stdout",
     "output_type": "stream",
     "text": [
      "Epoch 1 | Train: 0.7751/0.5779 | Val: 0.6706/0.6868\n"
     ]
    },
    {
     "name": "stderr",
     "output_type": "stream",
     "text": [
      "[Train] Epoch 2: 100%|██████████| 58/58 [01:31<00:00,  1.58s/it]\n"
     ]
    },
    {
     "name": "stdout",
     "output_type": "stream",
     "text": [
      "Epoch 2 | Train: 0.6225/0.7347 | Val: 0.5809/0.7789\n"
     ]
    },
    {
     "name": "stderr",
     "output_type": "stream",
     "text": [
      "[Train] Epoch 3: 100%|██████████| 58/58 [01:31<00:00,  1.58s/it]\n"
     ]
    },
    {
     "name": "stdout",
     "output_type": "stream",
     "text": [
      "Epoch 3 | Train: 0.5657/0.7835 | Val: 0.5426/0.7947\n"
     ]
    },
    {
     "name": "stderr",
     "output_type": "stream",
     "text": [
      "[Train] Epoch 4: 100%|██████████| 58/58 [01:30<00:00,  1.57s/it]\n"
     ]
    },
    {
     "name": "stdout",
     "output_type": "stream",
     "text": [
      "Epoch 4 | Train: 0.5508/0.7957 | Val: 0.5509/0.7860\n"
     ]
    },
    {
     "name": "stderr",
     "output_type": "stream",
     "text": [
      "[Train] Epoch 5: 100%|██████████| 58/58 [03:06<00:00,  3.22s/it]\n"
     ]
    },
    {
     "name": "stdout",
     "output_type": "stream",
     "text": [
      "Epoch 5 | Train: 0.5615/0.7772 | Val: 0.5555/0.7789\n"
     ]
    },
    {
     "name": "stderr",
     "output_type": "stream",
     "text": [
      "[Train] Epoch 6: 100%|██████████| 58/58 [05:19<00:00,  5.50s/it]\n"
     ]
    },
    {
     "name": "stdout",
     "output_type": "stream",
     "text": [
      "Epoch 6 | Train: 0.5377/0.7976 | Val: 0.5396/0.7807\n"
     ]
    },
    {
     "name": "stderr",
     "output_type": "stream",
     "text": [
      "[Train] Epoch 7: 100%|██████████| 58/58 [01:30<00:00,  1.55s/it]\n"
     ]
    },
    {
     "name": "stdout",
     "output_type": "stream",
     "text": [
      "Epoch 7 | Train: 0.5322/0.7958 | Val: 0.5401/0.7807\n"
     ]
    },
    {
     "name": "stderr",
     "output_type": "stream",
     "text": [
      "[Train] Epoch 8: 100%|██████████| 58/58 [01:30<00:00,  1.57s/it]\n"
     ]
    },
    {
     "name": "stdout",
     "output_type": "stream",
     "text": [
      "Epoch 8 | Train: 0.5420/0.7916 | Val: 0.5254/0.8000\n"
     ]
    },
    {
     "name": "stderr",
     "output_type": "stream",
     "text": [
      "[Train] Epoch 9: 100%|██████████| 58/58 [01:32<00:00,  1.59s/it]\n"
     ]
    },
    {
     "name": "stdout",
     "output_type": "stream",
     "text": [
      "Epoch 9 | Train: 0.5203/0.8036 | Val: 0.5426/0.7781\n"
     ]
    },
    {
     "name": "stderr",
     "output_type": "stream",
     "text": [
      "[Train] Epoch 10: 100%|██████████| 58/58 [01:25<00:00,  1.47s/it]\n"
     ]
    },
    {
     "name": "stdout",
     "output_type": "stream",
     "text": [
      "Epoch 10 | Train: 0.5327/0.7989 | Val: 0.5387/0.7746\n"
     ]
    },
    {
     "name": "stderr",
     "output_type": "stream",
     "text": [
      "[Train] Epoch 11: 100%|██████████| 58/58 [01:35<00:00,  1.64s/it]\n"
     ]
    },
    {
     "name": "stdout",
     "output_type": "stream",
     "text": [
      "Epoch 11 | Train: 0.5285/0.7978 | Val: 0.5665/0.7781\n"
     ]
    },
    {
     "name": "stderr",
     "output_type": "stream",
     "text": [
      "[Train] Epoch 12: 100%|██████████| 58/58 [01:30<00:00,  1.56s/it]\n"
     ]
    },
    {
     "name": "stdout",
     "output_type": "stream",
     "text": [
      "Epoch 12 | Train: 0.5548/0.7871 | Val: 0.5848/0.7912\n"
     ]
    },
    {
     "name": "stderr",
     "output_type": "stream",
     "text": [
      "[Train] Epoch 13: 100%|██████████| 58/58 [01:28<00:00,  1.53s/it]\n"
     ]
    },
    {
     "name": "stdout",
     "output_type": "stream",
     "text": [
      "Epoch 13 | Train: 0.5506/0.7950 | Val: 0.5879/0.7605\n"
     ]
    },
    {
     "name": "stderr",
     "output_type": "stream",
     "text": [
      "[Train] Epoch 14: 100%|██████████| 58/58 [01:27<00:00,  1.51s/it]\n"
     ]
    },
    {
     "name": "stdout",
     "output_type": "stream",
     "text": [
      "Epoch 14 | Train: 0.5494/0.7888 | Val: 0.5709/0.7868\n"
     ]
    },
    {
     "name": "stderr",
     "output_type": "stream",
     "text": [
      "[Train] Epoch 15: 100%|██████████| 58/58 [01:31<00:00,  1.58s/it]\n"
     ]
    },
    {
     "name": "stdout",
     "output_type": "stream",
     "text": [
      "Epoch 15 | Train: 0.5531/0.7863 | Val: 0.5693/0.7702\n"
     ]
    },
    {
     "name": "stderr",
     "output_type": "stream",
     "text": [
      "[Train] Epoch 16: 100%|██████████| 58/58 [01:28<00:00,  1.53s/it]\n"
     ]
    },
    {
     "name": "stdout",
     "output_type": "stream",
     "text": [
      "Epoch 16 | Train: 0.5642/0.7881 | Val: 0.5922/0.7737\n"
     ]
    },
    {
     "name": "stderr",
     "output_type": "stream",
     "text": [
      "[Train] Epoch 17: 100%|██████████| 58/58 [01:28<00:00,  1.53s/it]\n"
     ]
    },
    {
     "name": "stdout",
     "output_type": "stream",
     "text": [
      "Epoch 17 | Train: 0.5739/0.7852 | Val: 0.5434/0.7886\n"
     ]
    },
    {
     "name": "stderr",
     "output_type": "stream",
     "text": [
      "[Train] Epoch 18: 100%|██████████| 58/58 [01:26<00:00,  1.49s/it]\n"
     ]
    },
    {
     "name": "stdout",
     "output_type": "stream",
     "text": [
      "Epoch 18 | Train: 0.5564/0.7871 | Val: 0.5531/0.7763\n",
      "Early stopping at epoch 18\n",
      "\n",
      "Training completed!\n"
     ]
    }
   ],
   "source": [
    "timestamp = datetime.now().strftime(\"%Y%m%d_%H%M%S\")\n",
    "checkpoint_dir = f\"checkpoints/simple_vit_{timestamp}\"\n",
    "Path(checkpoint_dir).mkdir(parents=True, exist_ok=True)\n",
    "\n",
    "print(f\"Training on {device} with frozen backbone...\")\n",
    "print(f\"Checkpoint: {checkpoint_dir}\\n\")\n",
    "\n",
    "train_losses, train_accuracies, val_losses, val_accuracies = train_validate_model(\n",
    "    model, train_loader, val_loader, criterion, optimizer, 100, device, patience=10\n",
    ")\n",
    "\n",
    "print(\"\\nTraining completed!\")"
   ]
  },
  {
   "cell_type": "code",
   "execution_count": 11,
   "id": "6ba19b4f",
   "metadata": {},
   "outputs": [
    {
     "name": "stdout",
     "output_type": "stream",
     "text": [
      "Model saved: checkpoints/simple_vit_20251020_211815/best_model.pt\n"
     ]
    }
   ],
   "source": [
    "torch.save({\n",
    "    'model_state_dict': model.state_dict(),\n",
    "    'train_losses': train_losses,\n",
    "    'train_accuracies': train_accuracies,\n",
    "    'val_losses': val_losses,\n",
    "    'val_accuracies': val_accuracies,\n",
    "}, f'{checkpoint_dir}/best_model.pt')\n",
    "\n",
    "print(f\"Model saved: {checkpoint_dir}/best_model.pt\")"
   ]
  },
  {
   "cell_type": "code",
   "execution_count": 12,
   "id": "4f8f1d1b",
   "metadata": {},
   "outputs": [
    {
     "data": {
      "image/png": "[encoded data removed]",
      "text/plain": [
       "<Figure size 1500x500 with 2 Axes>"
      ]
     },
     "metadata": {},
     "output_type": "display_data"
    }
   ],
   "source": [
    "fig, axes = plt.subplots(1, 2, figsize=(15, 5))\n",
    "epochs = range(1, len(train_losses) + 1)\n",
    "\n",
    "axes[0].plot(epochs, train_losses, 'o-', label='Train', color='#3498db')\n",
    "axes[0].plot(epochs, val_losses, 'o-', label='Val', color='#e74c3c')\n",
    "axes[0].set_title('Loss')\n",
    "axes[0].set_xlabel('Epoch')\n",
    "axes[0].legend()\n",
    "axes[0].grid(True, alpha=0.3)\n",
    "\n",
    "axes[1].plot(epochs, train_accuracies, 'o-', label='Train', color='#3498db')\n",
    "axes[1].plot(epochs, val_accuracies, 'o-', label='Val', color='#e74c3c')\n",
    "axes[1].set_title('Accuracy')\n",
    "axes[1].set_xlabel('Epoch')\n",
    "axes[1].legend()\n",
    "axes[1].grid(True, alpha=0.3)\n",
    "\n",
    "plt.tight_layout()\n",
    "plt.savefig(f'{checkpoint_dir}/training_history.png', dpi=150)\n",
    "plt.show()"
   ]
  },
  {
   "cell_type": "code",
   "execution_count": null,
   "id": "e32ff5f5",
   "metadata": {},
   "outputs": [
    {
     "name": "stdout",
     "output_type": "stream",
     "text": [
      "\n",
      "Generating ROC curves for all 7 classes...\n"
     ]
    }
   ],
   "source": [
    "# Plot ROC Curves for all 7 classes (5 trained + 2 derived)\n",
    "print(\"\\nGenerating ROC curves for all 7 classes...\")\n",
    "\n",
    "from sklearn.metrics import roc_curve, auc as compute_auc\n",
    "import matplotlib.pyplot as plt\n",
    "\n",
    "# Get probabilities from test set\n",
    "model.eval()\n",
    "all_probs = []\n",
    "all_targets = []\n",
    "\n",
    "with torch.no_grad():\n",
    "    for images, labels in test_loader:\n",
    "        images = images.to(device)\n",
    "        logits = model(images)\n",
    "        probs = torch.sigmoid(logits).cpu().numpy()\n",
    "        all_probs.append(probs)\n",
    "        all_targets.append(labels.numpy())\n",
    "\n",
    "all_probs = np.concatenate(all_probs, axis=0)\n",
    "all_targets = np.concatenate(all_targets, axis=0)\n",
    "\n",
    "# Compute derived classes\n",
    "healthy_targets = (all_targets.sum(axis=1) == 0).astype(int)\n",
    "multiple_targets = (all_targets.sum(axis=1) > 1).astype(int)\n",
    "\n",
    "# Compute probabilities for derived classes\n",
    "healthy_probs = np.prod(1 - all_probs, axis=1)\n",
    "prob_none = np.prod(1 - all_probs, axis=1)\n",
    "prob_exactly_one = sum([all_probs[:, i] * np.prod(1 - np.delete(all_probs, i, axis=1), axis=1) \n",
    "                        for i in range(5)])\n",
    "multiple_probs = 1 - prob_none - prob_exactly_one\n",
    "\n",
    "# All 7 classes (5 trained + 2 derived)\n",
    "class_names_roc = ['Healthy', 'Epidural', 'Intraparenchymal', 'Intraventricular', 'Subarachnoid', 'Subdural', 'Multiple']\n",
    "all_targets_list = [healthy_targets] + [all_targets[:, i] for i in range(5)] + [multiple_targets]\n",
    "all_probs_list = [healthy_probs] + [all_probs[:, i] for i in range(5)] + [multiple_probs]\n",
    "colors = ['#8dd3c7', '#fb8072', '#80b1d3', '#fdb462', '#b3de69', '#fccde5', '#bebada']\n",
    "\n",
    "# Create the plot\n",
    "fig, ax = plt.subplots(figsize=(10, 8))\n",
    "\n",
    "for name, targets, probs, color in zip(class_names_roc, all_targets_list, all_probs_list, colors):\n",
    "    if len(np.unique(targets)) > 1:\n",
    "        fpr, tpr, _ = roc_curve(targets, probs)\n",
    "        roc_auc = compute_auc(fpr, tpr)\n",
    "        ax.plot(fpr, tpr, color=color, lw=2, alpha=0.8, label=f'{name} (AUC={roc_auc:.3f})')\n",
    "\n",
    "# Add diagonal line for random classifier\n",
    "ax.plot([0, 1], [0, 1], 'k--', lw=1.5, alpha=0.5, label='Random')\n",
    "\n",
    "# Formatting\n",
    "ax.set_xlim([0.0, 1.0])\n",
    "ax.set_ylim([0.0, 1.05])\n",
    "ax.set_xlabel('False Positive Rate', fontsize=12)\n",
    "ax.set_ylabel('True Positive Rate', fontsize=12)\n",
    "ax.set_title('ROC Curves - All 7 Classes (5 Trained + 2 Derived)', fontsize=14, fontweight='bold')\n",
    "ax.legend(loc='lower right', fontsize=9)\n",
    "ax.grid(alpha=0.3, linestyle='--')\n",
    "\n",
    "plt.tight_layout()\n",
    "\n",
    "# Save the plot\n",
    "roc_path = f'{checkpoint_dir}/roc_curves_all_classes.png'\n",
    "plt.savefig(roc_path, dpi=150, bbox_inches='tight')\n",
    "print(f\"Saved ROC curves to: {roc_path}\")\n",
    "plt.show()\n",
    "\n",
    "# Print AUC values for each class\n",
    "print(\"\\nAUC-ROC values for each class:\")\n",
    "print(\"-\" * 50)\n",
    "for name, targets, probs in zip(class_names_roc, all_targets_list, all_probs_list):\n",
    "    if len(np.unique(targets)) > 1:\n",
    "        fpr, tpr, _ = roc_curve(targets, probs)\n",
    "        roc_auc = compute_auc(fpr, tpr)\n",
    "        print(f\"{name:20s}: {roc_auc:.4f}\")\n",
    "    else:\n",
    "        print(f\"{name:20s}: N/A (only one class present)\")\n",
    "print(\"-\" * 50)\n"
   ]
  },
  {
   "cell_type": "code",
   "execution_count": null,
   "id": "cfe77ca6",
   "metadata": {},
   "outputs": [],
   "source": []
  }
 ],
 "metadata": {
  "kernelspec": {
   "display_name": "tfg-noah",
   "language": "python",
   "name": "python3"
  },
  "language_info": {
   "codemirror_mode": {
    "name": "ipython",
    "version": 3
   },
   "file_extension": ".py",
   "mimetype": "text/x-python",
   "name": "python",
   "nbconvert_exporter": "python",
   "pygments_lexer": "ipython3",
   "version": "3.10.13"
  }
 },
 "nbformat": 4,
 "nbformat_minor": 5
}
