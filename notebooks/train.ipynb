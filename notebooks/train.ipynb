{
 "cells": [
  {
   "cell_type": "code",
   "execution_count": null,
   "metadata": {},
   "outputs": [],
   "source": [
    "import os\n",
    "import sys\n",
    "import json\n",
    "import numpy as np\n",
    "import matplotlib.pyplot as plt\n",
    "import seaborn as sns\n",
    "from pathlib import Path\n",
    "from datetime import datetime\n",
    "\n",
    "# Enable fallback for unsupported operations on certain devices\n",
    "os.environ['PYTORCH_ENABLE_MPS_FALLBACK'] = '1'\n",
    "\n",
    "import torch\n",
    "import torch.nn as nn\n",
    "import torch.optim as optim\n",
    "from torch.utils.data import DataLoader\n",
    "\n",
    "sys.path.append('..')\n",
    "\n",
    "from dataset import PreprocessedDataset\n",
    "from models import ViTClassifier\n",
    "from utils import (\n",
    "    MetricsCalculator,\n",
    "    compute_class_weights,\n",
    "    Trainer,\n",
    "    WeightedBCELoss,\n",
    "    FocalLoss,\n",
    "    AsymmetricLoss,\n",
    "    CombinedLoss,\n",
    "    compute_pos_weights,\n",
    "    EarlyStopping\n",
    ")\n",
    "from utils.config_utils import load_config, load_env, get_device, print_config, validate_config\n",
    "from utils.data_analysis import analyze_dataset\n",
    "from utils.augmentations import (\n",
    "    get_train_augmentation, \n",
    "    Mixup, \n",
    "    CutMix, \n",
    "    MixupCutmix,\n",
    "    create_transforms\n",
    ")\n",
    "from utils.sampling import ImbalancedMultiLabelSampler\n",
    "from utils.schedulers import create_scheduler, CosineAnnealingWarmRestarts\n",
    "from utils.tta import TTAWrapper, EnsembleTTA\n",
    "\n",
    "import wandb\n",
    "\n",
    "SEED = 5252\n",
    "torch.manual_seed(SEED)\n",
    "np.random.seed(SEED)"
   ]
  },
  {
   "cell_type": "code",
   "execution_count": null,
   "metadata": {},
   "outputs": [
    {
     "name": "stdout",
     "output_type": "stream",
     "text": [
      "Loaded environment variables from .env\n",
      "✓ Configuration validated successfully\n",
      "Configuration: google/vit-base-patch16-224\n",
      "Checkpoint: checkpoints/run_20251019_231624\n",
      "\n",
      "Full Configuration:\n",
      "model:\n",
      "  name: google/vit-base-patch16-224\n",
      "  pretrained: True\n",
      "  num_classes: 5\n",
      "  input_channels: 9\n",
      "  channel_adaptation: deep_conv\n",
      "  dropout: 0.35\n",
      "  backend: huggingface\n",
      "  head_type: attention_mlp\n",
      "  head_hidden_dims: [512, 256, 128]\n",
      "  head_num_attention_heads: 8\n",
      "  head_attention_dropout: 0.25\n",
      "  head_use_residual: True\n",
      "data:\n",
      "  data_root: DL_Project_Processed_Data\n",
      "  train_split: train\n",
      "  val_split: val\n",
      "  test_split: test\n",
      "  batch_size: 16\n",
      "  num_workers: 0\n",
      "  pin_memory: False\n",
      "  sampler:\n",
      "    type: imbalanced\n",
      "    strategy: sqrt_inverse_freq\n",
      "    rare_class_boost: 2.5\n",
      "    num_samples: None\n",
      "augmentation:\n",
      "  mode: standard\n",
      "  rotation_degrees: 15\n",
      "  translate: [0.15, 0.15]\n",
      "  scale_range: [0.85, 1.15]\n",
      "  horizontal_flip: True\n",
      "  vertical_flip: False\n",
      "  intensity_shift: 0.15\n",
      "  intensity_scale: 0.15\n",
      "  noise_std: 0.02\n",
      "  aug_prob: 0.6\n",
      "  use_mixup: True\n",
      "  use_cutmix: True\n",
      "  mixup_alpha: 0.3\n",
      "  cutmix_alpha: 1.0\n",
      "  mixup_cutmix_prob: 0.6\n",
      "  use_random_erasing: True\n",
      "  random_erasing_prob: 0.3\n",
      "training:\n",
      "  epochs: 100\n",
      "  learning_rate: 0.0003\n",
      "  weight_decay: 0.01\n",
      "  optimizer: adamw\n",
      "  scheduler: cosine_warm_restarts\n",
      "  warmup_epochs: 8\n",
      "  warmup_lr_init: 1e-7\n",
      "  min_lr: 1e-7\n",
      "  restart_period: 15\n",
      "  restart_mult: 2\n",
      "  onecycle_pct_start: 0.3\n",
      "  onecycle_div_factor: 25.0\n",
      "  onecycle_final_div: 10000.0\n",
      "  plateau_factor: 0.5\n",
      "  plateau_patience: 7\n",
      "  gradient_clip: 1.0\n",
      "  accumulation_steps: 2\n",
      "  unfreeze:\n",
      "    enabled: False\n",
      "    start_epoch: 20\n",
      "loss:\n",
      "  type: combined_advanced\n",
      "  loss_weights:\n",
      "    bce: 0.4\n",
      "    focal: 0.3\n",
      "    asymmetric: 0.3\n",
      "  pos_weight_strategy: sqrt_inverse_freq\n",
      "  focal_alpha: 0.25\n",
      "  focal_gamma: 2.5\n",
      "  per_class_focal_alpha: [0.75, 0.25, 0.2, 0.65, 0.3]\n",
      "  asymmetric_gamma_neg: 5\n",
      "  asymmetric_gamma_pos: 0.5\n",
      "  per_class_gamma_neg: [6, 4, 3, 5, 4]\n",
      "  per_class_gamma_pos: [0.25, 0.5, 0.5, 0.4, 0.5]\n",
      "  label_smoothing: 0.08\n",
      "early_stopping:\n",
      "  enabled: True\n",
      "  patience: 20\n",
      "  min_delta: 0.0005\n",
      "  restore_best_weights: True\n",
      "metrics:\n",
      "  track_per_class: True\n",
      "  metrics_list: ['auc_roc', 'precision', 'recall', 'f1_score', 'accuracy']\n",
      "  threshold: 0.5\n",
      "  optimize_thresholds: True\n",
      "  threshold_optimization_method: f1\n",
      "  per_class_thresholds: True\n",
      "evaluation:\n",
      "  tta:\n",
      "    enabled: True\n",
      "    strategy: standard\n",
      "    combine_method: mean\n",
      "    use_multi_scale: False\n",
      "    scales: [0.95, 1.0, 1.05]\n",
      "wandb:\n",
      "  project: Deep Machine Learning Project - Advanced\n",
      "  entity: None\n",
      "  log_interval: 10\n",
      "  log_model: True\n",
      "  watch_model: True\n",
      "checkpoint:\n",
      "  save_dir: checkpoints/run_20251019_231624\n",
      "  save_frequency: 10\n",
      "  save_best: True\n",
      "  metric_for_best: val_f1_macro\n",
      "  mode: max\n",
      "hardware:\n",
      "  device: auto\n",
      "  seed: 5252\n",
      "advanced:\n",
      "  optimize_val_thresholds: True\n",
      "  optimize_every_n_epochs: 5\n",
      "  use_gradient_checkpointing: False\n",
      "  use_amp: False\n",
      "  use_ema: False\n",
      "  ema_decay: 0.999\n",
      "Using MPS (Apple Silicon) device\n",
      "\n",
      "Using device: mps\n"
     ]
    }
   ],
   "source": [
    "# Load environment variables and advanced config\n",
    "env_vars = load_env()\n",
    "config = load_config('../configs/config.yaml')\n",
    "validate_config(config)\n",
    "\n",
    "# Create timestamp-based checkpoint directory for this run\n",
    "timestamp = datetime.now().strftime(\"%Y%m%d_%H%M%S\")\n",
    "checkpoint_dir = f\"checkpoints/run_{timestamp}\"\n",
    "config['checkpoint']['save_dir'] = checkpoint_dir\n",
    "\n",
    "# Create the checkpoint directory\n",
    "Path(checkpoint_dir).mkdir(parents=True, exist_ok=True)\n",
    "\n",
    "# Save run info and config to checkpoint directory\n",
    "run_info = {\n",
    "    'timestamp': timestamp,\n",
    "    'run_name': f'vit_ich_improved_{timestamp}',\n",
    "    'checkpoint_dir': checkpoint_dir,\n",
    "    'start_time': datetime.now().isoformat(),\n",
    "    'config': config\n",
    "}\n",
    "\n",
    "import yaml\n",
    "with open(f'{checkpoint_dir}/run_info.yaml', 'w') as f:\n",
    "    yaml.dump(run_info, f, default_flow_style=False, indent=2)\n",
    "\n",
    "print(f\"Configuration: {config['model']['name']}\")\n",
    "print(f\"Checkpoint: {checkpoint_dir}\")\n",
    "\n",
    "print(\"\\nFull Configuration:\")\n",
    "print_config(config)\n",
    "\n",
    "# Get device\n",
    "device = get_device(config['hardware']['device'])\n",
    "print(f\"\\nUsing device: {device}\")"
   ]
  },
  {
   "cell_type": "code",
   "execution_count": 3,
   "metadata": {},
   "outputs": [
    {
     "name": "stdout",
     "output_type": "stream",
     "text": [
      "\n",
      "Loading datasets...\n",
      "Train: 1828 | Val: 228 | Test: 229\n",
      "Imbalanced sampler: 2.5x boost for rare classes\n",
      "Batch size: 16 | Train batches: 114 | Val: 15 | Test: 15\n"
     ]
    }
   ],
   "source": [
    "# Create augmentation and datasets with advanced sampling\n",
    "print(\"\\nLoading datasets...\")\n",
    "\n",
    "# Create transforms using the new create_transforms function\n",
    "train_transform = create_transforms(config, split='train')\n",
    "val_transform = create_transforms(config, split='val')\n",
    "\n",
    "# Create datasets\n",
    "data_root = config['data']['data_root']\n",
    "\n",
    "train_dataset = PreprocessedDataset(\n",
    "    root_dir=os.path.join('..', data_root, 'train'),\n",
    "    tranform=train_transform\n",
    ")\n",
    "val_dataset = PreprocessedDataset(\n",
    "    root_dir=os.path.join('..', data_root, 'val'),\n",
    "    tranform=val_transform\n",
    ")\n",
    "test_dataset = PreprocessedDataset(\n",
    "    root_dir=os.path.join('..', data_root, 'test'),\n",
    "    tranform=val_transform\n",
    ")\n",
    "\n",
    "print(f\"Train: {len(train_dataset)} | Val: {len(val_dataset)} | Test: {len(test_dataset)}\")\n",
    "\n",
    "# Create advanced sampler for imbalanced multi-label classification\n",
    "sampler_config = config['data']['sampler']\n",
    "train_sampler = None\n",
    "shuffle_train = True\n",
    "\n",
    "if sampler_config['type'] == 'imbalanced':\n",
    "    train_sampler = ImbalancedMultiLabelSampler(\n",
    "        dataset=train_dataset,\n",
    "        strategy=sampler_config['strategy'],\n",
    "        rare_class_boost=sampler_config['rare_class_boost'],\n",
    "        num_samples=sampler_config.get('num_samples', None)\n",
    "    )\n",
    "    shuffle_train = False\n",
    "    print(f\"Imbalanced sampler: {sampler_config['rare_class_boost']}x boost for rare classes\")\n",
    "\n",
    "# Create dataloaders\n",
    "train_loader = DataLoader(\n",
    "    train_dataset,\n",
    "    batch_size=config['data']['batch_size'],\n",
    "    shuffle=shuffle_train,\n",
    "    sampler=train_sampler,\n",
    "    num_workers=config['data']['num_workers'],\n",
    "    pin_memory=config['data']['pin_memory'],\n",
    "    drop_last=True if train_sampler else False\n",
    ")\n",
    "\n",
    "val_loader = DataLoader(\n",
    "    val_dataset,\n",
    "    batch_size=config['data']['batch_size'],\n",
    "    shuffle=False,\n",
    "    num_workers=config['data']['num_workers'],\n",
    "    pin_memory=config['data']['pin_memory']\n",
    ")\n",
    "\n",
    "test_loader = DataLoader(\n",
    "    test_dataset,\n",
    "    batch_size=config['data']['batch_size'],\n",
    "    shuffle=False,\n",
    "    num_workers=config['data']['num_workers'],\n",
    "    pin_memory=config['data']['pin_memory']\n",
    ")\n",
    "\n",
    "print(f\"Batch size: {config['data']['batch_size']} | Train batches: {len(train_loader)} | Val: {len(val_loader)} | Test: {len(test_loader)}\")\n"
   ]
  },
  {
   "cell_type": "code",
   "execution_count": 4,
   "metadata": {},
   "outputs": [
    {
     "name": "stdout",
     "output_type": "stream",
     "text": [
      "\n",
      "Computing class weights...\n",
      "Class weights (strategy=sqrt_inverse_freq):\n",
      "  epidural            :   90 samples (  4.9%) → weight 4.394\n",
      "  intraparenchymal    :  447 samples ( 24.5%) → weight 1.758\n",
      "  intraventricular    :  400 samples ( 21.9%) → weight 1.889\n",
      "  subarachnoid        :  515 samples ( 28.2%) → weight 1.597\n",
      "  subdural            :  465 samples ( 25.4%) → weight 1.712\n"
     ]
    }
   ],
   "source": [
    "# Compute class weights for advanced loss functions\n",
    "print(\"\\nComputing class weights...\")\n",
    "\n",
    "train_labels = []\n",
    "for _, labels in train_dataset:\n",
    "    if isinstance(labels, torch.Tensor):\n",
    "        labels = labels.numpy()\n",
    "    train_labels.append(labels)\n",
    "train_labels = np.array(train_labels)\n",
    "\n",
    "# Compute pos weights\n",
    "strategy = config['loss'].get('pos_weight_strategy', 'sqrt_inverse_freq')\n",
    "pos_weight = compute_pos_weights(train_labels, strategy=strategy)\n",
    "\n",
    "# Print class distribution\n",
    "class_names = ['epidural', 'intraparenchymal', 'intraventricular', 'subarachnoid', 'subdural']\n",
    "pos_counts = train_labels.sum(axis=0)\n",
    "total = len(train_labels)\n",
    "\n",
    "print(f\"Class weights (strategy={strategy}):\")\n",
    "for i, name in enumerate(class_names):\n",
    "    pos = int(pos_counts[i])\n",
    "    pos_pct = (pos / total) * 100\n",
    "    print(f\"  {name:20s}: {pos:4d} samples ({pos_pct:5.1f}%) → weight {pos_weight[i]:.3f}\")\n",
    "\n",
    "# Get per-class configurations for advanced loss\n",
    "per_class_focal_alpha = config['loss'].get('per_class_focal_alpha')\n",
    "per_class_focal_alpha_tensor = torch.tensor(per_class_focal_alpha, dtype=torch.float32).to(device) if per_class_focal_alpha else None\n",
    "\n",
    "per_class_gamma_neg = config['loss'].get('per_class_gamma_neg')\n",
    "per_class_gamma_neg_tensor = torch.tensor(per_class_gamma_neg, dtype=torch.float32).to(device) if per_class_gamma_neg else None\n",
    "\n",
    "per_class_gamma_pos = config['loss'].get('per_class_gamma_pos')\n",
    "per_class_gamma_pos_tensor = torch.tensor(per_class_gamma_pos, dtype=torch.float32).to(device) if per_class_gamma_pos else None\n",
    "\n",
    "# Move to device\n",
    "pos_weight = pos_weight.to(device)"
   ]
  },
  {
   "cell_type": "code",
   "execution_count": 5,
   "metadata": {},
   "outputs": [
    {
     "name": "stdout",
     "output_type": "stream",
     "text": [
      "\n",
      "Initializing model...\n"
     ]
    },
    {
     "name": "stderr",
     "output_type": "stream",
     "text": [
      "Some weights of ViTModel were not initialized from the model checkpoint at google/vit-base-patch16-224 and are newly initialized: ['vit.pooler.dense.bias', 'vit.pooler.dense.weight']\n",
      "You should probably TRAIN this model on a down-stream task to be able to use it for predictions and inference.\n"
     ]
    },
    {
     "name": "stdout",
     "output_type": "stream",
     "text": [
      "Model: google/vit-base-patch16-224 | Params: 88.2M (88.2M trainable)\n",
      "Head: attention_mlp | Dropout: 0.35\n"
     ]
    }
   ],
   "source": [
    "# Create model using factory function\n",
    "print(\"\\nInitializing model...\")\n",
    "from models.vit_model import create_vit_model\n",
    "\n",
    "model = create_vit_model(config)\n",
    "model = model.to(device)\n",
    "\n",
    "# Print model summary\n",
    "total_params = sum(p.numel() for p in model.parameters())\n",
    "trainable_params = sum(p.numel() for p in model.parameters() if p.requires_grad)\n",
    "\n",
    "print(f\"Model: {config['model']['name']} | Params: {total_params/1e6:.1f}M ({trainable_params/1e6:.1f}M trainable)\")\n",
    "print(f\"Head: {config['model'].get('head_type')} | Dropout: {config['model']['dropout']}\")"
   ]
  },
  {
   "cell_type": "code",
   "execution_count": 6,
   "metadata": {},
   "outputs": [
    {
     "name": "stdout",
     "output_type": "stream",
     "text": [
      "\n",
      "Configuring loss and optimizer...\n",
      "Loss: combined_advanced (BCE=0.4, Focal=0.3, Asym=0.3)\n",
      "Optimizer: AdamW (lr=0.0003, wd=0.01)\n",
      "Scheduler: cosine_warm_restarts (T_0=15, warmup=8)\n"
     ]
    }
   ],
   "source": [
    "# Create Advanced Combined Loss\n",
    "print(\"\\nConfiguring loss and optimizer...\")\n",
    "\n",
    "loss_config = config['loss']\n",
    "loss_weights = loss_config['loss_weights']\n",
    "\n",
    "criterion = CombinedLoss(\n",
    "    loss_weights=loss_weights,\n",
    "    pos_weight=pos_weight,\n",
    "    focal_alpha=loss_config['focal_alpha'],\n",
    "    focal_gamma=loss_config['focal_gamma'],\n",
    "    per_class_focal_alpha=per_class_focal_alpha_tensor,\n",
    "    label_smoothing=loss_config['label_smoothing'],\n",
    "    asymmetric_gamma_neg=loss_config['asymmetric_gamma_neg'],\n",
    "    asymmetric_gamma_pos=loss_config['asymmetric_gamma_pos'],\n",
    "    per_class_gamma_neg=per_class_gamma_neg_tensor,\n",
    "    per_class_gamma_pos=per_class_gamma_pos_tensor,\n",
    "    class_weights=pos_weight\n",
    ")\n",
    "\n",
    "training_config = config['training']\n",
    "\n",
    "optimizer = torch.optim.AdamW(\n",
    "    model.parameters(),\n",
    "    lr=float(training_config['learning_rate']),\n",
    "    weight_decay=float(training_config['weight_decay'])\n",
    ")\n",
    "\n",
    "# Create advanced scheduler using factory function\n",
    "scheduler = create_scheduler(optimizer, config, len(train_loader))\n",
    "\n",
    "print(f\"Loss: {loss_config['type']} (BCE={loss_weights['bce']}, Focal={loss_weights['focal']}, Asym={loss_weights['asymmetric']})\")\n",
    "print(f\"Optimizer: AdamW (lr={training_config['learning_rate']}, wd={training_config['weight_decay']})\")\n",
    "print(f\"Scheduler: {training_config['scheduler']} (T_0={training_config.get('restart_period', 15)}, warmup={training_config.get('warmup_epochs', 8)})\")\n"
   ]
  },
  {
   "cell_type": "code",
   "execution_count": 7,
   "metadata": {},
   "outputs": [
    {
     "name": "stderr",
     "output_type": "stream",
     "text": [
      "\u001b[34m\u001b[1mwandb\u001b[0m: Currently logged in as: \u001b[33mnoahmv59\u001b[0m (\u001b[33mdml_project\u001b[0m). Use \u001b[1m`wandb login --relogin`\u001b[0m to force relogin\n",
      "\u001b[34m\u001b[1mwandb\u001b[0m: \u001b[33mWARNING\u001b[0m If you're specifying your api key in code, ensure this code is not shared publicly.\n",
      "\u001b[34m\u001b[1mwandb\u001b[0m: \u001b[33mWARNING\u001b[0m Consider setting the WANDB_API_KEY environment variable, or running `wandb login` from the command line.\n",
      "\u001b[34m\u001b[1mwandb\u001b[0m: Appending key for api.wandb.ai to your netrc file: /Users/noahmv/.netrc\n"
     ]
    },
    {
     "data": {
      "text/html": [
       "wandb version 0.22.2 is available!  To upgrade, please run:\n",
       " $ pip install wandb --upgrade"
      ],
      "text/plain": [
       "<IPython.core.display.HTML object>"
      ]
     },
     "metadata": {},
     "output_type": "display_data"
    },
    {
     "data": {
      "text/html": [
       "Tracking run with wandb version 0.17.0"
      ],
      "text/plain": [
       "<IPython.core.display.HTML object>"
      ]
     },
     "metadata": {},
     "output_type": "display_data"
    },
    {
     "data": {
      "text/html": [
       "Run data is saved locally in <code>/Users/noahmv/Desktop/noah/studies/Master's/Chalmers/2nd year/sp_1/DML/Project/notebooks/wandb/run-20251019_231646-yym7v83l</code>"
      ],
      "text/plain": [
       "<IPython.core.display.HTML object>"
      ]
     },
     "metadata": {},
     "output_type": "display_data"
    },
    {
     "data": {
      "text/html": [
       "Syncing run <strong><a href='https://wandb.ai/dml_project/Deep%20Machine%20Learning%20Project%20-%20Advanced/runs/yym7v83l' target=\"_blank\">vit_advanced_20251019_231645</a></strong> to <a href='https://wandb.ai/dml_project/Deep%20Machine%20Learning%20Project%20-%20Advanced' target=\"_blank\">Weights & Biases</a> (<a href='https://wandb.me/run' target=\"_blank\">docs</a>)<br/>"
      ],
      "text/plain": [
       "<IPython.core.display.HTML object>"
      ]
     },
     "metadata": {},
     "output_type": "display_data"
    },
    {
     "data": {
      "text/html": [
       " View project at <a href='https://wandb.ai/dml_project/Deep%20Machine%20Learning%20Project%20-%20Advanced' target=\"_blank\">https://wandb.ai/dml_project/Deep%20Machine%20Learning%20Project%20-%20Advanced</a>"
      ],
      "text/plain": [
       "<IPython.core.display.HTML object>"
      ]
     },
     "metadata": {},
     "output_type": "display_data"
    },
    {
     "data": {
      "text/html": [
       " View run at <a href='https://wandb.ai/dml_project/Deep%20Machine%20Learning%20Project%20-%20Advanced/runs/yym7v83l' target=\"_blank\">https://wandb.ai/dml_project/Deep%20Machine%20Learning%20Project%20-%20Advanced/runs/yym7v83l</a>"
      ],
      "text/plain": [
       "<IPython.core.display.HTML object>"
      ]
     },
     "metadata": {},
     "output_type": "display_data"
    },
    {
     "name": "stdout",
     "output_type": "stream",
     "text": [
      "\n",
      "W&B: vit_advanced_20251019_231645 | https://wandb.ai/dml_project/Deep%20Machine%20Learning%20Project%20-%20Advanced/runs/yym7v83l\n"
     ]
    }
   ],
   "source": [
    "# Initialize W&B\n",
    "USE_WANDB = True \n",
    "\n",
    "if USE_WANDB:\n",
    "    timestamp = datetime.now().strftime(\"%Y%m%d_%H%M%S\")\n",
    "    run_name = f\"vit_advanced_{timestamp}\"\n",
    "    \n",
    "    if env_vars.get('WANDB_API_KEY'):\n",
    "        wandb.login(key=env_vars['WANDB_API_KEY'])\n",
    "    \n",
    "    run = wandb.init(\n",
    "        project=config['wandb']['project'],\n",
    "        entity=env_vars.get('WANDB_ENTITY'),\n",
    "        name=run_name,\n",
    "        config=config,\n",
    "        tags=['vit', 'ich', 'multi-label', 'advanced']\n",
    "    )\n",
    "    \n",
    "    if config['wandb']['watch_model']:\n",
    "        wandb.watch(model, log='all', log_freq=100)\n",
    "    \n",
    "    print(f\"\\nW&B: {wandb.run.name} | {wandb.run.get_url()}\")\n",
    "else:\n",
    "    print(\"\\nW&B disabled\")\n"
   ]
  },
  {
   "cell_type": "code",
   "execution_count": 8,
   "metadata": {},
   "outputs": [
    {
     "name": "stdout",
     "output_type": "stream",
     "text": [
      "Backbone frozen for MPS compatibility\n",
      "\n",
      "Training: 100 epochs | Early stop: patience=20\n",
      "Augmentation: Mixup/CutMix prob=0.6\n",
      "Regularization: Dropout=0.35, Gradient clip=1.0\n",
      "\n",
      "Starting training...\n",
      "\n",
      "\n",
      "================================================================================\n",
      "Starting Training for 100 epochs\n",
      "================================================================================\n",
      "\n"
     ]
    },
    {
     "name": "stderr",
     "output_type": "stream",
     "text": [
      "Epoch 1 [Train]: 100%|██████████| 114/114 [00:49<00:00,  2.31it/s, loss=0.534]\n",
      "Epoch 1 [Val]: 100%|██████████| 15/15 [00:08<00:00,  1.68it/s, loss=0.625]\n"
     ]
    },
    {
     "name": "stdout",
     "output_type": "stream",
     "text": [
      "\n",
      "Epoch 1/100\n",
      "  Train Loss: 0.4850 | Train AUC: 0.5156 | Train F1: 0.2829\n",
      "  Val Loss:   0.4890 | Val AUC:   0.3960 | Val F1:   0.2170\n",
      "  ✓ Best model saved: checkpoints/run_20251019_231624/best_model.pt\n"
     ]
    },
    {
     "name": "stderr",
     "output_type": "stream",
     "text": [
      "Epoch 2 [Train]: 100%|██████████| 114/114 [00:46<00:00,  2.44it/s, loss=0.518]\n",
      "Epoch 2 [Val]: 100%|██████████| 15/15 [00:08<00:00,  1.74it/s, loss=0.607]\n"
     ]
    },
    {
     "name": "stdout",
     "output_type": "stream",
     "text": [
      "\n",
      "Epoch 2/100\n",
      "  Train Loss: 0.4567 | Train AUC: 0.5772 | Train F1: 0.2871\n",
      "  Val Loss:   0.4317 | Val AUC:   0.6914 | Val F1:   0.2207\n",
      "  ✓ Best model saved: checkpoints/run_20251019_231624/best_model.pt\n",
      "  → Validation metric improved to 0.2207\n"
     ]
    },
    {
     "name": "stderr",
     "output_type": "stream",
     "text": [
      "Epoch 3 [Train]: 100%|██████████| 114/114 [00:45<00:00,  2.49it/s, loss=0.518]\n",
      "Epoch 3 [Val]: 100%|██████████| 15/15 [00:08<00:00,  1.79it/s, loss=0.651]\n"
     ]
    },
    {
     "name": "stdout",
     "output_type": "stream",
     "text": [
      "\n",
      "Epoch 3/100\n",
      "  Train Loss: 0.4386 | Train AUC: 0.6740 | Train F1: 0.3749\n",
      "  Val Loss:   0.4234 | Val AUC:   0.7328 | Val F1:   0.2882\n",
      "  ✓ Best model saved: checkpoints/run_20251019_231624/best_model.pt\n",
      "  → Validation metric improved to 0.2882\n"
     ]
    },
    {
     "name": "stderr",
     "output_type": "stream",
     "text": [
      "Epoch 4 [Train]: 100%|██████████| 114/114 [00:44<00:00,  2.58it/s, loss=0.464]\n",
      "Epoch 4 [Val]: 100%|██████████| 15/15 [00:08<00:00,  1.80it/s, loss=0.522]\n"
     ]
    },
    {
     "name": "stdout",
     "output_type": "stream",
     "text": [
      "\n",
      "Epoch 4/100\n",
      "  Train Loss: 0.4193 | Train AUC: 0.7373 | Train F1: 0.4488\n",
      "  Val Loss:   0.4024 | Val AUC:   0.7596 | Val F1:   0.4388\n",
      "  ✓ Best model saved: checkpoints/run_20251019_231624/best_model.pt\n",
      "  → Validation metric improved to 0.4388\n"
     ]
    },
    {
     "name": "stderr",
     "output_type": "stream",
     "text": [
      "Epoch 5 [Train]: 100%|██████████| 114/114 [00:45<00:00,  2.50it/s, loss=0.411]\n",
      "Epoch 5 [Val]: 100%|██████████| 15/15 [00:08<00:00,  1.76it/s, loss=0.555]\n"
     ]
    },
    {
     "name": "stdout",
     "output_type": "stream",
     "text": [
      "\n",
      "Epoch 5/100\n",
      "  Train Loss: 0.4123 | Train AUC: 0.7666 | Train F1: 0.4846\n",
      "  Val Loss:   0.4014 | Val AUC:   0.7760 | Val F1:   0.4067\n",
      "  → No improvement for 1/20 epochs (best: 0.4388 at epoch 4)\n"
     ]
    },
    {
     "name": "stderr",
     "output_type": "stream",
     "text": [
      "Epoch 6 [Train]: 100%|██████████| 114/114 [00:43<00:00,  2.63it/s, loss=0.406]\n",
      "Epoch 6 [Val]: 100%|██████████| 15/15 [00:08<00:00,  1.84it/s, loss=0.582]\n"
     ]
    },
    {
     "name": "stdout",
     "output_type": "stream",
     "text": [
      "\n",
      "Epoch 6/100\n",
      "  Train Loss: 0.3958 | Train AUC: 0.7845 | Train F1: 0.4972\n",
      "  Val Loss:   0.4285 | Val AUC:   0.7810 | Val F1:   0.3292\n",
      "  → No improvement for 2/20 epochs (best: 0.4388 at epoch 4)\n"
     ]
    },
    {
     "name": "stderr",
     "output_type": "stream",
     "text": [
      "Epoch 7 [Train]: 100%|██████████| 114/114 [00:42<00:00,  2.69it/s, loss=0.424]\n",
      "Epoch 7 [Val]: 100%|██████████| 15/15 [00:08<00:00,  1.75it/s, loss=0.571]\n"
     ]
    },
    {
     "name": "stdout",
     "output_type": "stream",
     "text": [
      "\n",
      "Epoch 7/100\n",
      "  Train Loss: 0.4009 | Train AUC: 0.7912 | Train F1: 0.5034\n",
      "  Val Loss:   0.4110 | Val AUC:   0.7867 | Val F1:   0.3275\n",
      "  → No improvement for 3/20 epochs (best: 0.4388 at epoch 4)\n"
     ]
    },
    {
     "name": "stderr",
     "output_type": "stream",
     "text": [
      "Epoch 8 [Train]: 100%|██████████| 114/114 [00:45<00:00,  2.52it/s, loss=0.378]\n",
      "Epoch 8 [Val]: 100%|██████████| 15/15 [00:08<00:00,  1.84it/s, loss=0.702]\n"
     ]
    },
    {
     "name": "stdout",
     "output_type": "stream",
     "text": [
      "\n",
      "Epoch 8/100\n",
      "  Train Loss: 0.4045 | Train AUC: 0.7864 | Train F1: 0.4988\n",
      "  Val Loss:   0.4647 | Val AUC:   0.7928 | Val F1:   0.2826\n",
      "  → No improvement for 4/20 epochs (best: 0.4388 at epoch 4)\n"
     ]
    },
    {
     "name": "stderr",
     "output_type": "stream",
     "text": [
      "Epoch 9 [Train]: 100%|██████████| 114/114 [00:43<00:00,  2.61it/s, loss=0.427]\n",
      "Epoch 9 [Val]: 100%|██████████| 15/15 [00:08<00:00,  1.87it/s, loss=0.582]\n"
     ]
    },
    {
     "name": "stdout",
     "output_type": "stream",
     "text": [
      "\n",
      "Epoch 9/100\n",
      "  Train Loss: 0.3958 | Train AUC: 0.7870 | Train F1: 0.5052\n",
      "  Val Loss:   0.4066 | Val AUC:   0.7899 | Val F1:   0.3600\n",
      "  → No improvement for 5/20 epochs (best: 0.4388 at epoch 4)\n"
     ]
    },
    {
     "name": "stderr",
     "output_type": "stream",
     "text": [
      "Epoch 10 [Train]: 100%|██████████| 114/114 [00:43<00:00,  2.62it/s, loss=0.386]\n",
      "Epoch 10 [Val]: 100%|██████████| 15/15 [00:08<00:00,  1.86it/s, loss=0.491]\n"
     ]
    },
    {
     "name": "stdout",
     "output_type": "stream",
     "text": [
      "\n",
      "Epoch 10/100\n",
      "  Train Loss: 0.3885 | Train AUC: 0.8243 | Train F1: 0.5499\n",
      "  Val Loss:   0.3923 | Val AUC:   0.7974 | Val F1:   0.4086\n",
      "  → No improvement for 6/20 epochs (best: 0.4388 at epoch 4)\n"
     ]
    },
    {
     "name": "stderr",
     "output_type": "stream",
     "text": [
      "Epoch 11 [Train]: 100%|██████████| 114/114 [00:43<00:00,  2.63it/s, loss=0.441]\n",
      "Epoch 11 [Val]: 100%|██████████| 15/15 [00:08<00:00,  1.83it/s, loss=0.499]\n"
     ]
    },
    {
     "name": "stdout",
     "output_type": "stream",
     "text": [
      "\n",
      "Epoch 11/100\n",
      "  Train Loss: 0.3894 | Train AUC: 0.8180 | Train F1: 0.5182\n",
      "  Val Loss:   0.3927 | Val AUC:   0.7991 | Val F1:   0.4596\n",
      "  ✓ Best model saved: checkpoints/run_20251019_231624/best_model.pt\n",
      "  → Validation metric improved to 0.4596\n"
     ]
    },
    {
     "name": "stderr",
     "output_type": "stream",
     "text": [
      "Epoch 12 [Train]: 100%|██████████| 114/114 [00:44<00:00,  2.56it/s, loss=0.423]\n",
      "Epoch 12 [Val]: 100%|██████████| 15/15 [00:08<00:00,  1.70it/s, loss=0.456]\n"
     ]
    },
    {
     "name": "stdout",
     "output_type": "stream",
     "text": [
      "\n",
      "Epoch 12/100\n",
      "  Train Loss: 0.3913 | Train AUC: 0.8158 | Train F1: 0.5406\n",
      "  Val Loss:   0.3915 | Val AUC:   0.7979 | Val F1:   0.4890\n",
      "  ✓ Best model saved: checkpoints/run_20251019_231624/best_model.pt\n",
      "  → Validation metric improved to 0.4890\n"
     ]
    },
    {
     "name": "stderr",
     "output_type": "stream",
     "text": [
      "Epoch 13 [Train]: 100%|██████████| 114/114 [00:48<00:00,  2.37it/s, loss=0.367]\n",
      "Epoch 13 [Val]: 100%|██████████| 15/15 [00:09<00:00,  1.65it/s, loss=0.613]\n"
     ]
    },
    {
     "name": "stdout",
     "output_type": "stream",
     "text": [
      "\n",
      "Epoch 13/100\n",
      "  Train Loss: 0.3929 | Train AUC: 0.8158 | Train F1: 0.5330\n",
      "  Val Loss:   0.4288 | Val AUC:   0.7977 | Val F1:   0.3021\n",
      "  → No improvement for 1/20 epochs (best: 0.4890 at epoch 12)\n"
     ]
    },
    {
     "name": "stderr",
     "output_type": "stream",
     "text": [
      "Epoch 14 [Train]: 100%|██████████| 114/114 [00:47<00:00,  2.42it/s, loss=0.375]\n",
      "Epoch 14 [Val]: 100%|██████████| 15/15 [00:09<00:00,  1.62it/s, loss=0.437]\n"
     ]
    },
    {
     "name": "stdout",
     "output_type": "stream",
     "text": [
      "\n",
      "Epoch 14/100\n",
      "  Train Loss: 0.3806 | Train AUC: 0.8341 | Train F1: 0.5585\n",
      "  Val Loss:   0.3787 | Val AUC:   0.8116 | Val F1:   0.4761\n",
      "  → No improvement for 2/20 epochs (best: 0.4890 at epoch 12)\n"
     ]
    },
    {
     "name": "stderr",
     "output_type": "stream",
     "text": [
      "Epoch 15 [Train]: 100%|██████████| 114/114 [00:46<00:00,  2.46it/s, loss=0.463]\n",
      "Epoch 15 [Val]: 100%|██████████| 15/15 [00:08<00:00,  1.72it/s, loss=0.412]\n"
     ]
    },
    {
     "name": "stdout",
     "output_type": "stream",
     "text": [
      "\n",
      "Epoch 15/100\n",
      "  Train Loss: 0.3765 | Train AUC: 0.8562 | Train F1: 0.5720\n",
      "  Val Loss:   0.3719 | Val AUC:   0.8086 | Val F1:   0.5044\n",
      "  ✓ Best model saved: checkpoints/run_20251019_231624/best_model.pt\n",
      "  → Validation metric improved to 0.5044\n"
     ]
    },
    {
     "name": "stderr",
     "output_type": "stream",
     "text": [
      "Epoch 16 [Train]: 100%|██████████| 114/114 [00:47<00:00,  2.39it/s, loss=0.466]\n",
      "Epoch 16 [Val]: 100%|██████████| 15/15 [00:09<00:00,  1.64it/s, loss=0.412]\n"
     ]
    },
    {
     "name": "stdout",
     "output_type": "stream",
     "text": [
      "\n",
      "Epoch 16/100\n",
      "  Train Loss: 0.3785 | Train AUC: 0.8603 | Train F1: 0.5836\n",
      "  Val Loss:   0.3638 | Val AUC:   0.8183 | Val F1:   0.4938\n",
      "  → No improvement for 1/20 epochs (best: 0.5044 at epoch 15)\n"
     ]
    },
    {
     "name": "stderr",
     "output_type": "stream",
     "text": [
      "Epoch 17 [Train]: 100%|██████████| 114/114 [00:47<00:00,  2.42it/s, loss=0.401]\n",
      "Epoch 17 [Val]: 100%|██████████| 15/15 [00:08<00:00,  1.71it/s, loss=0.495]\n"
     ]
    },
    {
     "name": "stdout",
     "output_type": "stream",
     "text": [
      "\n",
      "Epoch 17/100\n",
      "  Train Loss: 0.3734 | Train AUC: 0.8559 | Train F1: 0.5993\n",
      "  Val Loss:   0.3894 | Val AUC:   0.8166 | Val F1:   0.4068\n",
      "  → No improvement for 2/20 epochs (best: 0.5044 at epoch 15)\n"
     ]
    },
    {
     "name": "stderr",
     "output_type": "stream",
     "text": [
      "Epoch 18 [Train]: 100%|██████████| 114/114 [00:45<00:00,  2.48it/s, loss=0.379]\n",
      "Epoch 18 [Val]: 100%|██████████| 15/15 [00:10<00:00,  1.50it/s, loss=0.42] \n"
     ]
    },
    {
     "name": "stdout",
     "output_type": "stream",
     "text": [
      "\n",
      "Epoch 18/100\n",
      "  Train Loss: 0.3583 | Train AUC: 0.8536 | Train F1: 0.5718\n",
      "  Val Loss:   0.3669 | Val AUC:   0.8150 | Val F1:   0.5050\n",
      "  ✓ Best model saved: checkpoints/run_20251019_231624/best_model.pt\n",
      "  → Validation metric improved to 0.5050\n"
     ]
    },
    {
     "name": "stderr",
     "output_type": "stream",
     "text": [
      "Epoch 19 [Train]: 100%|██████████| 114/114 [00:48<00:00,  2.33it/s, loss=0.338]\n",
      "Epoch 19 [Val]: 100%|██████████| 15/15 [00:08<00:00,  1.73it/s, loss=0.473]\n"
     ]
    },
    {
     "name": "stdout",
     "output_type": "stream",
     "text": [
      "\n",
      "Epoch 19/100\n",
      "  Train Loss: 0.3666 | Train AUC: 0.8748 | Train F1: 0.6068\n",
      "  Val Loss:   0.3938 | Val AUC:   0.8148 | Val F1:   0.4683\n",
      "  → No improvement for 1/20 epochs (best: 0.5050 at epoch 18)\n"
     ]
    },
    {
     "name": "stderr",
     "output_type": "stream",
     "text": [
      "Epoch 20 [Train]: 100%|██████████| 114/114 [00:47<00:00,  2.41it/s, loss=0.333]\n",
      "Epoch 20 [Val]: 100%|██████████| 15/15 [00:08<00:00,  1.71it/s, loss=0.439]\n"
     ]
    },
    {
     "name": "stdout",
     "output_type": "stream",
     "text": [
      "\n",
      "Epoch 20/100\n",
      "  Train Loss: 0.3669 | Train AUC: 0.8754 | Train F1: 0.6039\n",
      "  Val Loss:   0.3746 | Val AUC:   0.8140 | Val F1:   0.4706\n",
      "  → No improvement for 2/20 epochs (best: 0.5050 at epoch 18)\n"
     ]
    },
    {
     "name": "stderr",
     "output_type": "stream",
     "text": [
      "Epoch 21 [Train]: 100%|██████████| 114/114 [00:47<00:00,  2.39it/s, loss=0.316]\n",
      "Epoch 21 [Val]: 100%|██████████| 15/15 [00:09<00:00,  1.63it/s, loss=0.42] \n"
     ]
    },
    {
     "name": "stdout",
     "output_type": "stream",
     "text": [
      "\n",
      "Epoch 21/100\n",
      "  Train Loss: 0.3597 | Train AUC: 0.8882 | Train F1: 0.6297\n",
      "  Val Loss:   0.3699 | Val AUC:   0.8127 | Val F1:   0.4990\n",
      "  → No improvement for 3/20 epochs (best: 0.5050 at epoch 18)\n"
     ]
    },
    {
     "name": "stderr",
     "output_type": "stream",
     "text": [
      "Epoch 22 [Train]: 100%|██████████| 114/114 [00:47<00:00,  2.40it/s, loss=0.316]\n",
      "Epoch 22 [Val]: 100%|██████████| 15/15 [00:08<00:00,  1.68it/s, loss=0.428]\n"
     ]
    },
    {
     "name": "stdout",
     "output_type": "stream",
     "text": [
      "\n",
      "Epoch 22/100\n",
      "  Train Loss: 0.3682 | Train AUC: 0.8534 | Train F1: 0.5874\n",
      "  Val Loss:   0.3715 | Val AUC:   0.8129 | Val F1:   0.4890\n",
      "  → No improvement for 4/20 epochs (best: 0.5050 at epoch 18)\n"
     ]
    },
    {
     "name": "stderr",
     "output_type": "stream",
     "text": [
      "Epoch 23 [Train]: 100%|██████████| 114/114 [00:48<00:00,  2.33it/s, loss=0.39] \n",
      "Epoch 23 [Val]: 100%|██████████| 15/15 [00:08<00:00,  1.74it/s, loss=0.537]\n"
     ]
    },
    {
     "name": "stdout",
     "output_type": "stream",
     "text": [
      "\n",
      "Epoch 23/100\n",
      "  Train Loss: 0.3769 | Train AUC: 0.8494 | Train F1: 0.5829\n",
      "  Val Loss:   0.4017 | Val AUC:   0.7922 | Val F1:   0.4122\n",
      "  → No improvement for 5/20 epochs (best: 0.5050 at epoch 18)\n"
     ]
    },
    {
     "name": "stderr",
     "output_type": "stream",
     "text": [
      "Epoch 24 [Train]: 100%|██████████| 114/114 [00:43<00:00,  2.60it/s, loss=0.325]\n",
      "Epoch 24 [Val]: 100%|██████████| 15/15 [00:08<00:00,  1.82it/s, loss=0.358]\n"
     ]
    },
    {
     "name": "stdout",
     "output_type": "stream",
     "text": [
      "\n",
      "Epoch 24/100\n",
      "  Train Loss: 0.3739 | Train AUC: 0.8409 | Train F1: 0.5701\n",
      "  Val Loss:   0.3648 | Val AUC:   0.8029 | Val F1:   0.5404\n",
      "  ✓ Best model saved: checkpoints/run_20251019_231624/best_model.pt\n",
      "  → Validation metric improved to 0.5404\n"
     ]
    },
    {
     "name": "stderr",
     "output_type": "stream",
     "text": [
      "Epoch 25 [Train]: 100%|██████████| 114/114 [00:44<00:00,  2.54it/s, loss=0.393]\n",
      "Epoch 25 [Val]: 100%|██████████| 15/15 [00:08<00:00,  1.75it/s, loss=0.474]\n"
     ]
    },
    {
     "name": "stdout",
     "output_type": "stream",
     "text": [
      "\n",
      "Epoch 25/100\n",
      "  Train Loss: 0.3790 | Train AUC: 0.8540 | Train F1: 0.5726\n",
      "  Val Loss:   0.4079 | Val AUC:   0.8009 | Val F1:   0.4572\n",
      "  → No improvement for 1/20 epochs (best: 0.5404 at epoch 24)\n"
     ]
    },
    {
     "name": "stderr",
     "output_type": "stream",
     "text": [
      "Epoch 26 [Train]: 100%|██████████| 114/114 [00:45<00:00,  2.52it/s, loss=0.426]\n",
      "Epoch 26 [Val]: 100%|██████████| 15/15 [00:08<00:00,  1.84it/s, loss=0.427]\n"
     ]
    },
    {
     "name": "stdout",
     "output_type": "stream",
     "text": [
      "\n",
      "Epoch 26/100\n",
      "  Train Loss: 0.3769 | Train AUC: 0.8448 | Train F1: 0.5640\n",
      "  Val Loss:   0.3752 | Val AUC:   0.8101 | Val F1:   0.5266\n",
      "  → No improvement for 2/20 epochs (best: 0.5404 at epoch 24)\n"
     ]
    },
    {
     "name": "stderr",
     "output_type": "stream",
     "text": [
      "Epoch 27 [Train]: 100%|██████████| 114/114 [00:44<00:00,  2.56it/s, loss=0.431]\n",
      "Epoch 27 [Val]: 100%|██████████| 15/15 [00:08<00:00,  1.84it/s, loss=0.498]\n"
     ]
    },
    {
     "name": "stdout",
     "output_type": "stream",
     "text": [
      "\n",
      "Epoch 27/100\n",
      "  Train Loss: 0.3740 | Train AUC: 0.8507 | Train F1: 0.5789\n",
      "  Val Loss:   0.3922 | Val AUC:   0.8187 | Val F1:   0.4426\n",
      "  → No improvement for 3/20 epochs (best: 0.5404 at epoch 24)\n"
     ]
    },
    {
     "name": "stderr",
     "output_type": "stream",
     "text": [
      "Epoch 28 [Train]: 100%|██████████| 114/114 [00:47<00:00,  2.40it/s, loss=0.389]\n",
      "Epoch 28 [Val]: 100%|██████████| 15/15 [00:08<00:00,  1.75it/s, loss=0.44] \n"
     ]
    },
    {
     "name": "stdout",
     "output_type": "stream",
     "text": [
      "\n",
      "Epoch 28/100\n",
      "  Train Loss: 0.3785 | Train AUC: 0.8373 | Train F1: 0.5622\n",
      "  Val Loss:   0.3911 | Val AUC:   0.8174 | Val F1:   0.5029\n",
      "  → No improvement for 4/20 epochs (best: 0.5404 at epoch 24)\n"
     ]
    },
    {
     "name": "stderr",
     "output_type": "stream",
     "text": [
      "Epoch 29 [Train]: 100%|██████████| 114/114 [00:51<00:00,  2.22it/s, loss=0.406]\n",
      "Epoch 29 [Val]: 100%|██████████| 15/15 [00:09<00:00,  1.57it/s, loss=0.425]\n"
     ]
    },
    {
     "name": "stdout",
     "output_type": "stream",
     "text": [
      "\n",
      "Epoch 29/100\n",
      "  Train Loss: 0.3769 | Train AUC: 0.8509 | Train F1: 0.5783\n",
      "  Val Loss:   0.3717 | Val AUC:   0.8234 | Val F1:   0.4948\n",
      "  → No improvement for 5/20 epochs (best: 0.5404 at epoch 24)\n"
     ]
    },
    {
     "name": "stderr",
     "output_type": "stream",
     "text": [
      "Epoch 30 [Train]: 100%|██████████| 114/114 [00:49<00:00,  2.30it/s, loss=0.388]\n",
      "Epoch 30 [Val]: 100%|██████████| 15/15 [00:09<00:00,  1.57it/s, loss=0.412]\n"
     ]
    },
    {
     "name": "stdout",
     "output_type": "stream",
     "text": [
      "\n",
      "Epoch 30/100\n",
      "  Train Loss: 0.3585 | Train AUC: 0.8525 | Train F1: 0.5951\n",
      "  Val Loss:   0.3698 | Val AUC:   0.8107 | Val F1:   0.4936\n",
      "  → No improvement for 6/20 epochs (best: 0.5404 at epoch 24)\n"
     ]
    },
    {
     "name": "stderr",
     "output_type": "stream",
     "text": [
      "Epoch 31 [Train]: 100%|██████████| 114/114 [00:53<00:00,  2.12it/s, loss=0.535]\n",
      "Epoch 31 [Val]: 100%|██████████| 15/15 [00:09<00:00,  1.50it/s, loss=0.435]\n"
     ]
    },
    {
     "name": "stdout",
     "output_type": "stream",
     "text": [
      "\n",
      "Epoch 31/100\n",
      "  Train Loss: 0.3671 | Train AUC: 0.8594 | Train F1: 0.6082\n",
      "  Val Loss:   0.3829 | Val AUC:   0.8119 | Val F1:   0.4761\n",
      "  → No improvement for 7/20 epochs (best: 0.5404 at epoch 24)\n"
     ]
    },
    {
     "name": "stderr",
     "output_type": "stream",
     "text": [
      "Epoch 32 [Train]: 100%|██████████| 114/114 [00:53<00:00,  2.14it/s, loss=0.449]\n",
      "Epoch 32 [Val]: 100%|██████████| 15/15 [00:10<00:00,  1.49it/s, loss=0.379]\n"
     ]
    },
    {
     "name": "stdout",
     "output_type": "stream",
     "text": [
      "\n",
      "Epoch 32/100\n",
      "  Train Loss: 0.3661 | Train AUC: 0.8716 | Train F1: 0.6195\n",
      "  Val Loss:   0.3681 | Val AUC:   0.8208 | Val F1:   0.5256\n",
      "  → No improvement for 8/20 epochs (best: 0.5404 at epoch 24)\n"
     ]
    },
    {
     "name": "stderr",
     "output_type": "stream",
     "text": [
      "Epoch 33 [Train]: 100%|██████████| 114/114 [01:00<00:00,  1.90it/s, loss=0.483]\n",
      "Epoch 33 [Val]: 100%|██████████| 15/15 [00:10<00:00,  1.41it/s, loss=0.411]\n"
     ]
    },
    {
     "name": "stdout",
     "output_type": "stream",
     "text": [
      "\n",
      "Epoch 33/100\n",
      "  Train Loss: 0.3737 | Train AUC: 0.8579 | Train F1: 0.6197\n",
      "  Val Loss:   0.3634 | Val AUC:   0.8204 | Val F1:   0.5242\n",
      "  → No improvement for 9/20 epochs (best: 0.5404 at epoch 24)\n"
     ]
    },
    {
     "name": "stderr",
     "output_type": "stream",
     "text": [
      "Epoch 34 [Train]: 100%|██████████| 114/114 [01:00<00:00,  1.87it/s, loss=0.308]\n",
      "Epoch 34 [Val]: 100%|██████████| 15/15 [00:11<00:00,  1.33it/s, loss=0.448]\n"
     ]
    },
    {
     "name": "stdout",
     "output_type": "stream",
     "text": [
      "\n",
      "Epoch 34/100\n",
      "  Train Loss: 0.3662 | Train AUC: 0.8654 | Train F1: 0.6096\n",
      "  Val Loss:   0.3801 | Val AUC:   0.8207 | Val F1:   0.5069\n",
      "  → No improvement for 10/20 epochs (best: 0.5404 at epoch 24)\n"
     ]
    },
    {
     "name": "stderr",
     "output_type": "stream",
     "text": [
      "Epoch 35 [Train]: 100%|██████████| 114/114 [00:58<00:00,  1.94it/s, loss=0.351]\n",
      "Epoch 35 [Val]: 100%|██████████| 15/15 [00:10<00:00,  1.46it/s, loss=0.484]\n"
     ]
    },
    {
     "name": "stdout",
     "output_type": "stream",
     "text": [
      "\n",
      "Epoch 35/100\n",
      "  Train Loss: 0.3693 | Train AUC: 0.8766 | Train F1: 0.6489\n",
      "  Val Loss:   0.3721 | Val AUC:   0.8259 | Val F1:   0.5129\n",
      "  → No improvement for 11/20 epochs (best: 0.5404 at epoch 24)\n"
     ]
    },
    {
     "name": "stderr",
     "output_type": "stream",
     "text": [
      "Epoch 36 [Train]: 100%|██████████| 114/114 [00:52<00:00,  2.17it/s, loss=0.437]\n",
      "Epoch 36 [Val]: 100%|██████████| 15/15 [00:07<00:00,  1.90it/s, loss=0.444]\n"
     ]
    },
    {
     "name": "stdout",
     "output_type": "stream",
     "text": [
      "\n",
      "Epoch 36/100\n",
      "  Train Loss: 0.3643 | Train AUC: 0.8798 | Train F1: 0.6053\n",
      "  Val Loss:   0.3717 | Val AUC:   0.8191 | Val F1:   0.4745\n",
      "  → No improvement for 12/20 epochs (best: 0.5404 at epoch 24)\n"
     ]
    },
    {
     "name": "stderr",
     "output_type": "stream",
     "text": [
      "Epoch 37 [Train]: 100%|██████████| 114/114 [00:47<00:00,  2.39it/s, loss=0.279]\n",
      "Epoch 37 [Val]: 100%|██████████| 15/15 [00:08<00:00,  1.86it/s, loss=0.451]\n"
     ]
    },
    {
     "name": "stdout",
     "output_type": "stream",
     "text": [
      "\n",
      "Epoch 37/100\n",
      "  Train Loss: 0.3532 | Train AUC: 0.8711 | Train F1: 0.6130\n",
      "  Val Loss:   0.3660 | Val AUC:   0.8216 | Val F1:   0.5473\n",
      "  ✓ Best model saved: checkpoints/run_20251019_231624/best_model.pt\n",
      "  → Validation metric improved to 0.5473\n"
     ]
    },
    {
     "name": "stderr",
     "output_type": "stream",
     "text": [
      "Epoch 38 [Train]: 100%|██████████| 114/114 [00:48<00:00,  2.35it/s, loss=0.407]\n",
      "Epoch 38 [Val]: 100%|██████████| 15/15 [00:09<00:00,  1.64it/s, loss=0.404]\n"
     ]
    },
    {
     "name": "stdout",
     "output_type": "stream",
     "text": [
      "\n",
      "Epoch 38/100\n",
      "  Train Loss: 0.3630 | Train AUC: 0.8733 | Train F1: 0.6337\n",
      "  Val Loss:   0.3659 | Val AUC:   0.8283 | Val F1:   0.5335\n",
      "  → No improvement for 1/20 epochs (best: 0.5473 at epoch 37)\n"
     ]
    },
    {
     "name": "stderr",
     "output_type": "stream",
     "text": [
      "Epoch 39 [Train]: 100%|██████████| 114/114 [00:50<00:00,  2.28it/s, loss=0.282]\n",
      "Epoch 39 [Val]: 100%|██████████| 15/15 [00:09<00:00,  1.63it/s, loss=0.45] \n"
     ]
    },
    {
     "name": "stdout",
     "output_type": "stream",
     "text": [
      "\n",
      "Epoch 39/100\n",
      "  Train Loss: 0.3533 | Train AUC: 0.8923 | Train F1: 0.6566\n",
      "  Val Loss:   0.3896 | Val AUC:   0.8205 | Val F1:   0.4950\n",
      "  → No improvement for 2/20 epochs (best: 0.5473 at epoch 37)\n"
     ]
    },
    {
     "name": "stderr",
     "output_type": "stream",
     "text": [
      "Epoch 40 [Train]: 100%|██████████| 114/114 [00:48<00:00,  2.35it/s, loss=0.426]\n",
      "Epoch 40 [Val]: 100%|██████████| 15/15 [00:08<00:00,  1.71it/s, loss=0.448]\n"
     ]
    },
    {
     "name": "stdout",
     "output_type": "stream",
     "text": [
      "\n",
      "Epoch 40/100\n",
      "  Train Loss: 0.3461 | Train AUC: 0.8890 | Train F1: 0.6438\n",
      "  Val Loss:   0.3739 | Val AUC:   0.8259 | Val F1:   0.5227\n",
      "  → No improvement for 3/20 epochs (best: 0.5473 at epoch 37)\n"
     ]
    },
    {
     "name": "stderr",
     "output_type": "stream",
     "text": [
      "Epoch 41 [Train]: 100%|██████████| 114/114 [00:50<00:00,  2.28it/s, loss=0.307]\n",
      "Epoch 41 [Val]: 100%|██████████| 15/15 [00:09<00:00,  1.63it/s, loss=0.46] \n"
     ]
    },
    {
     "name": "stdout",
     "output_type": "stream",
     "text": [
      "\n",
      "Epoch 41/100\n",
      "  Train Loss: 0.3559 | Train AUC: 0.8939 | Train F1: 0.6570\n",
      "  Val Loss:   0.3711 | Val AUC:   0.8223 | Val F1:   0.5093\n",
      "  → No improvement for 4/20 epochs (best: 0.5473 at epoch 37)\n"
     ]
    },
    {
     "name": "stderr",
     "output_type": "stream",
     "text": [
      "Epoch 42 [Train]: 100%|██████████| 114/114 [00:47<00:00,  2.41it/s, loss=0.396]\n",
      "Epoch 42 [Val]: 100%|██████████| 15/15 [00:08<00:00,  1.72it/s, loss=0.416]\n"
     ]
    },
    {
     "name": "stdout",
     "output_type": "stream",
     "text": [
      "\n",
      "Epoch 42/100\n",
      "  Train Loss: 0.3542 | Train AUC: 0.8838 | Train F1: 0.6288\n",
      "  Val Loss:   0.3722 | Val AUC:   0.8215 | Val F1:   0.5185\n",
      "  → No improvement for 5/20 epochs (best: 0.5473 at epoch 37)\n"
     ]
    },
    {
     "name": "stderr",
     "output_type": "stream",
     "text": [
      "Epoch 43 [Train]: 100%|██████████| 114/114 [00:46<00:00,  2.47it/s, loss=0.312]\n",
      "Epoch 43 [Val]: 100%|██████████| 15/15 [00:08<00:00,  1.75it/s, loss=0.43] \n"
     ]
    },
    {
     "name": "stdout",
     "output_type": "stream",
     "text": [
      "\n",
      "Epoch 43/100\n",
      "  Train Loss: 0.3624 | Train AUC: 0.8914 | Train F1: 0.6482\n",
      "  Val Loss:   0.3659 | Val AUC:   0.8247 | Val F1:   0.5494\n",
      "  ✓ Best model saved: checkpoints/run_20251019_231624/best_model.pt\n",
      "  → Validation metric improved to 0.5494\n"
     ]
    },
    {
     "name": "stderr",
     "output_type": "stream",
     "text": [
      "Epoch 44 [Train]: 100%|██████████| 114/114 [00:47<00:00,  2.38it/s, loss=0.32] \n",
      "Epoch 44 [Val]: 100%|██████████| 15/15 [00:08<00:00,  1.69it/s, loss=0.461]\n"
     ]
    },
    {
     "name": "stdout",
     "output_type": "stream",
     "text": [
      "\n",
      "Epoch 44/100\n",
      "  Train Loss: 0.3569 | Train AUC: 0.8903 | Train F1: 0.6412\n",
      "  Val Loss:   0.3771 | Val AUC:   0.8275 | Val F1:   0.5370\n",
      "  → No improvement for 1/20 epochs (best: 0.5494 at epoch 43)\n"
     ]
    },
    {
     "name": "stderr",
     "output_type": "stream",
     "text": [
      "Epoch 45 [Train]: 100%|██████████| 114/114 [00:47<00:00,  2.38it/s, loss=0.317]\n",
      "Epoch 45 [Val]: 100%|██████████| 15/15 [00:08<00:00,  1.73it/s, loss=0.41] \n"
     ]
    },
    {
     "name": "stdout",
     "output_type": "stream",
     "text": [
      "\n",
      "Epoch 45/100\n",
      "  Train Loss: 0.3568 | Train AUC: 0.8946 | Train F1: 0.6475\n",
      "  Val Loss:   0.3662 | Val AUC:   0.8262 | Val F1:   0.5341\n",
      "  → No improvement for 2/20 epochs (best: 0.5494 at epoch 43)\n"
     ]
    },
    {
     "name": "stderr",
     "output_type": "stream",
     "text": [
      "Epoch 46 [Train]: 100%|██████████| 114/114 [00:46<00:00,  2.45it/s, loss=0.369]\n",
      "Epoch 46 [Val]: 100%|██████████| 15/15 [00:09<00:00,  1.65it/s, loss=0.459]\n"
     ]
    },
    {
     "name": "stdout",
     "output_type": "stream",
     "text": [
      "\n",
      "Epoch 46/100\n",
      "  Train Loss: 0.3483 | Train AUC: 0.8868 | Train F1: 0.6612\n",
      "  Val Loss:   0.3829 | Val AUC:   0.8280 | Val F1:   0.5159\n",
      "  → No improvement for 3/20 epochs (best: 0.5494 at epoch 43)\n"
     ]
    },
    {
     "name": "stderr",
     "output_type": "stream",
     "text": [
      "Epoch 47 [Train]: 100%|██████████| 114/114 [00:45<00:00,  2.51it/s, loss=0.38] \n",
      "Epoch 47 [Val]: 100%|██████████| 15/15 [00:08<00:00,  1.75it/s, loss=0.426]\n"
     ]
    },
    {
     "name": "stdout",
     "output_type": "stream",
     "text": [
      "\n",
      "Epoch 47/100\n",
      "  Train Loss: 0.3529 | Train AUC: 0.9001 | Train F1: 0.6608\n",
      "  Val Loss:   0.3689 | Val AUC:   0.8306 | Val F1:   0.5355\n",
      "  → No improvement for 4/20 epochs (best: 0.5494 at epoch 43)\n"
     ]
    },
    {
     "name": "stderr",
     "output_type": "stream",
     "text": [
      "Epoch 48 [Train]: 100%|██████████| 114/114 [00:48<00:00,  2.35it/s, loss=0.307]\n",
      "Epoch 48 [Val]: 100%|██████████| 15/15 [00:09<00:00,  1.65it/s, loss=0.48] \n"
     ]
    },
    {
     "name": "stdout",
     "output_type": "stream",
     "text": [
      "\n",
      "Epoch 48/100\n",
      "  Train Loss: 0.3485 | Train AUC: 0.9027 | Train F1: 0.6751\n",
      "  Val Loss:   0.3785 | Val AUC:   0.8271 | Val F1:   0.5348\n",
      "  → No improvement for 5/20 epochs (best: 0.5494 at epoch 43)\n"
     ]
    },
    {
     "name": "stderr",
     "output_type": "stream",
     "text": [
      "Epoch 49 [Train]: 100%|██████████| 114/114 [00:46<00:00,  2.43it/s, loss=0.452]\n",
      "Epoch 49 [Val]: 100%|██████████| 15/15 [00:08<00:00,  1.74it/s, loss=0.442]\n"
     ]
    },
    {
     "name": "stdout",
     "output_type": "stream",
     "text": [
      "\n",
      "Epoch 49/100\n",
      "  Train Loss: 0.3418 | Train AUC: 0.9046 | Train F1: 0.6851\n",
      "  Val Loss:   0.3720 | Val AUC:   0.8285 | Val F1:   0.5368\n",
      "  → No improvement for 6/20 epochs (best: 0.5494 at epoch 43)\n"
     ]
    },
    {
     "name": "stderr",
     "output_type": "stream",
     "text": [
      "Epoch 50 [Train]: 100%|██████████| 114/114 [00:44<00:00,  2.57it/s, loss=0.409]\n",
      "Epoch 50 [Val]: 100%|██████████| 15/15 [00:08<00:00,  1.75it/s, loss=0.436]\n"
     ]
    },
    {
     "name": "stdout",
     "output_type": "stream",
     "text": [
      "\n",
      "Epoch 50/100\n",
      "  Train Loss: 0.3442 | Train AUC: 0.8924 | Train F1: 0.6699\n",
      "  Val Loss:   0.3680 | Val AUC:   0.8273 | Val F1:   0.5322\n",
      "  → No improvement for 7/20 epochs (best: 0.5494 at epoch 43)\n"
     ]
    },
    {
     "name": "stderr",
     "output_type": "stream",
     "text": [
      "Epoch 51 [Train]: 100%|██████████| 114/114 [00:45<00:00,  2.50it/s, loss=0.312]\n",
      "Epoch 51 [Val]: 100%|██████████| 15/15 [00:08<00:00,  1.77it/s, loss=0.439]\n"
     ]
    },
    {
     "name": "stdout",
     "output_type": "stream",
     "text": [
      "\n",
      "Epoch 51/100\n",
      "  Train Loss: 0.3462 | Train AUC: 0.9000 | Train F1: 0.6587\n",
      "  Val Loss:   0.3697 | Val AUC:   0.8271 | Val F1:   0.5303\n",
      "  → No improvement for 8/20 epochs (best: 0.5494 at epoch 43)\n"
     ]
    },
    {
     "name": "stderr",
     "output_type": "stream",
     "text": [
      "Epoch 52 [Train]: 100%|██████████| 114/114 [00:46<00:00,  2.44it/s, loss=0.319]\n",
      "Epoch 52 [Val]: 100%|██████████| 15/15 [00:08<00:00,  1.72it/s, loss=0.441]\n"
     ]
    },
    {
     "name": "stdout",
     "output_type": "stream",
     "text": [
      "\n",
      "Epoch 52/100\n",
      "  Train Loss: 0.3389 | Train AUC: 0.9086 | Train F1: 0.6709\n",
      "  Val Loss:   0.3704 | Val AUC:   0.8272 | Val F1:   0.5299\n",
      "  → No improvement for 9/20 epochs (best: 0.5494 at epoch 43)\n"
     ]
    },
    {
     "name": "stderr",
     "output_type": "stream",
     "text": [
      "Epoch 53 [Train]: 100%|██████████| 114/114 [00:45<00:00,  2.51it/s, loss=0.294]\n",
      "Epoch 53 [Val]: 100%|██████████| 15/15 [00:08<00:00,  1.81it/s, loss=0.53] \n"
     ]
    },
    {
     "name": "stdout",
     "output_type": "stream",
     "text": [
      "\n",
      "Epoch 53/100\n",
      "  Train Loss: 0.3657 | Train AUC: 0.8834 | Train F1: 0.6410\n",
      "  Val Loss:   0.3848 | Val AUC:   0.8152 | Val F1:   0.4643\n",
      "  → No improvement for 10/20 epochs (best: 0.5494 at epoch 43)\n"
     ]
    },
    {
     "name": "stderr",
     "output_type": "stream",
     "text": [
      "Epoch 54 [Train]: 100%|██████████| 114/114 [00:44<00:00,  2.54it/s, loss=0.469]\n",
      "Epoch 54 [Val]: 100%|██████████| 15/15 [00:08<00:00,  1.80it/s, loss=0.444]\n"
     ]
    },
    {
     "name": "stdout",
     "output_type": "stream",
     "text": [
      "\n",
      "Epoch 54/100\n",
      "  Train Loss: 0.3550 | Train AUC: 0.8790 | Train F1: 0.6266\n",
      "  Val Loss:   0.3656 | Val AUC:   0.8163 | Val F1:   0.4672\n",
      "  → No improvement for 11/20 epochs (best: 0.5494 at epoch 43)\n"
     ]
    },
    {
     "name": "stderr",
     "output_type": "stream",
     "text": [
      "Epoch 55 [Train]: 100%|██████████| 114/114 [00:50<00:00,  2.27it/s, loss=0.285]\n",
      "Epoch 55 [Val]: 100%|██████████| 15/15 [00:09<00:00,  1.58it/s, loss=0.493]\n"
     ]
    },
    {
     "name": "stdout",
     "output_type": "stream",
     "text": [
      "\n",
      "Epoch 55/100\n",
      "  Train Loss: 0.3678 | Train AUC: 0.8771 | Train F1: 0.6096\n",
      "  Val Loss:   0.3893 | Val AUC:   0.8108 | Val F1:   0.4701\n",
      "  → No improvement for 12/20 epochs (best: 0.5494 at epoch 43)\n"
     ]
    },
    {
     "name": "stderr",
     "output_type": "stream",
     "text": [
      "Epoch 56 [Train]: 100%|██████████| 114/114 [00:50<00:00,  2.27it/s, loss=0.443]\n",
      "Epoch 56 [Val]: 100%|██████████| 15/15 [00:08<00:00,  1.71it/s, loss=0.516]\n"
     ]
    },
    {
     "name": "stdout",
     "output_type": "stream",
     "text": [
      "\n",
      "Epoch 56/100\n",
      "  Train Loss: 0.3592 | Train AUC: 0.8738 | Train F1: 0.6040\n",
      "  Val Loss:   0.4401 | Val AUC:   0.8053 | Val F1:   0.4498\n",
      "  → No improvement for 13/20 epochs (best: 0.5494 at epoch 43)\n"
     ]
    },
    {
     "name": "stderr",
     "output_type": "stream",
     "text": [
      "Epoch 57 [Train]: 100%|██████████| 114/114 [00:45<00:00,  2.52it/s, loss=0.5]  \n",
      "Epoch 57 [Val]: 100%|██████████| 15/15 [00:08<00:00,  1.72it/s, loss=0.434]\n"
     ]
    },
    {
     "name": "stdout",
     "output_type": "stream",
     "text": [
      "\n",
      "Epoch 57/100\n",
      "  Train Loss: 0.3708 | Train AUC: 0.8671 | Train F1: 0.6239\n",
      "  Val Loss:   0.3720 | Val AUC:   0.8110 | Val F1:   0.5397\n",
      "  → No improvement for 14/20 epochs (best: 0.5494 at epoch 43)\n"
     ]
    },
    {
     "name": "stderr",
     "output_type": "stream",
     "text": [
      "Epoch 58 [Train]: 100%|██████████| 114/114 [00:47<00:00,  2.42it/s, loss=0.314]\n",
      "Epoch 58 [Val]: 100%|██████████| 15/15 [00:08<00:00,  1.69it/s, loss=0.495]\n"
     ]
    },
    {
     "name": "stdout",
     "output_type": "stream",
     "text": [
      "\n",
      "Epoch 58/100\n",
      "  Train Loss: 0.3505 | Train AUC: 0.8862 | Train F1: 0.6410\n",
      "  Val Loss:   0.3917 | Val AUC:   0.8114 | Val F1:   0.5102\n",
      "  → No improvement for 15/20 epochs (best: 0.5494 at epoch 43)\n"
     ]
    },
    {
     "name": "stderr",
     "output_type": "stream",
     "text": [
      "Epoch 59 [Train]: 100%|██████████| 114/114 [00:51<00:00,  2.20it/s, loss=0.343]\n",
      "Epoch 59 [Val]: 100%|██████████| 15/15 [00:09<00:00,  1.53it/s, loss=0.499]\n"
     ]
    },
    {
     "name": "stdout",
     "output_type": "stream",
     "text": [
      "\n",
      "Epoch 59/100\n",
      "  Train Loss: 0.3579 | Train AUC: 0.8728 | Train F1: 0.6225\n",
      "  Val Loss:   0.3910 | Val AUC:   0.8054 | Val F1:   0.4681\n",
      "  → No improvement for 16/20 epochs (best: 0.5494 at epoch 43)\n"
     ]
    },
    {
     "name": "stderr",
     "output_type": "stream",
     "text": [
      "Epoch 60 [Train]: 100%|██████████| 114/114 [00:51<00:00,  2.21it/s, loss=0.389]\n",
      "Epoch 60 [Val]: 100%|██████████| 15/15 [00:08<00:00,  1.72it/s, loss=0.518]\n"
     ]
    },
    {
     "name": "stdout",
     "output_type": "stream",
     "text": [
      "\n",
      "Epoch 60/100\n",
      "  Train Loss: 0.3579 | Train AUC: 0.8943 | Train F1: 0.6553\n",
      "  Val Loss:   0.3814 | Val AUC:   0.8011 | Val F1:   0.5098\n",
      "  → No improvement for 17/20 epochs (best: 0.5494 at epoch 43)\n"
     ]
    },
    {
     "name": "stderr",
     "output_type": "stream",
     "text": [
      "Epoch 61 [Train]: 100%|██████████| 114/114 [00:46<00:00,  2.43it/s, loss=0.462]\n",
      "Epoch 61 [Val]: 100%|██████████| 15/15 [00:08<00:00,  1.74it/s, loss=0.616]\n"
     ]
    },
    {
     "name": "stdout",
     "output_type": "stream",
     "text": [
      "\n",
      "Epoch 61/100\n",
      "  Train Loss: 0.3703 | Train AUC: 0.8779 | Train F1: 0.6294\n",
      "  Val Loss:   0.4061 | Val AUC:   0.8103 | Val F1:   0.4219\n",
      "  → No improvement for 18/20 epochs (best: 0.5494 at epoch 43)\n"
     ]
    },
    {
     "name": "stderr",
     "output_type": "stream",
     "text": [
      "Epoch 62 [Train]: 100%|██████████| 114/114 [00:47<00:00,  2.38it/s, loss=0.419]\n",
      "Epoch 62 [Val]: 100%|██████████| 15/15 [00:09<00:00,  1.65it/s, loss=0.589]\n"
     ]
    },
    {
     "name": "stdout",
     "output_type": "stream",
     "text": [
      "\n",
      "Epoch 62/100\n",
      "  Train Loss: 0.3692 | Train AUC: 0.8762 | Train F1: 0.6169\n",
      "  Val Loss:   0.3952 | Val AUC:   0.8102 | Val F1:   0.4717\n",
      "  → No improvement for 19/20 epochs (best: 0.5494 at epoch 43)\n"
     ]
    },
    {
     "name": "stderr",
     "output_type": "stream",
     "text": [
      "Epoch 63 [Train]: 100%|██████████| 114/114 [00:45<00:00,  2.51it/s, loss=0.267]\n",
      "Epoch 63 [Val]: 100%|██████████| 15/15 [00:08<00:00,  1.80it/s, loss=0.515]\n"
     ]
    },
    {
     "name": "stdout",
     "output_type": "stream",
     "text": [
      "\n",
      "Epoch 63/100\n",
      "  Train Loss: 0.3523 | Train AUC: 0.8895 | Train F1: 0.6419\n",
      "  Val Loss:   0.3760 | Val AUC:   0.8107 | Val F1:   0.5201\n",
      "  → No improvement for 20/20 epochs (best: 0.5494 at epoch 43)\n",
      "\n",
      "================================================================================\n",
      "Early stopping triggered!\n",
      "Best score: 0.5494 at epoch 43\n",
      "================================================================================\n",
      "\n",
      "Restored model to best weights from epoch 43\n",
      "\n",
      "Stopping early at epoch 63\n",
      "\n",
      "================================================================================\n",
      "Training Complete!\n",
      "Best val_f1_macro: 0.5494\n",
      "================================================================================\n",
      "\n"
     ]
    }
   ],
   "source": [
    "# Create MixupCutmix and Trainer\n",
    "aug_config = config['augmentation']\n",
    "mixup_cutmix = MixupCutmix(\n",
    "    mixup_alpha=aug_config['mixup_alpha'],\n",
    "    cutmix_alpha=aug_config['cutmix_alpha'],\n",
    "    num_classes=5,\n",
    "    prob=aug_config['mixup_cutmix_prob']\n",
    ")\n",
    "\n",
    "trainer = Trainer(\n",
    "    model=model,\n",
    "    train_loader=train_loader,\n",
    "    val_loader=val_loader,\n",
    "    criterion=criterion,\n",
    "    optimizer=optimizer,\n",
    "    scheduler=scheduler,\n",
    "    device=device,\n",
    "    config=config,\n",
    "    use_wandb=USE_WANDB,\n",
    "    mixup_fn=mixup_cutmix,\n",
    "    cutmix_fn=mixup_cutmix\n",
    ")\n",
    "\n",
    "training_config = config['training']\n",
    "early_stop_config = config['early_stopping']\n",
    "\n",
    "print(f\"\\nTraining: {training_config['epochs']} epochs | Early stop: patience={early_stop_config['patience']}\")\n",
    "print(f\"Augmentation: Mixup/CutMix prob={aug_config['mixup_cutmix_prob']}\")\n",
    "print(f\"Regularization: Dropout={config['model']['dropout']}, Gradient clip={training_config['gradient_clip']}\")\n",
    "print(f\"\\nStarting training...\\n\")\n",
    "\n",
    "trainer.fit(epochs=int(training_config['epochs']))"
   ]
  },
  {
   "cell_type": "code",
   "execution_count": 12,
   "metadata": {},
   "outputs": [
    {
     "name": "stdout",
     "output_type": "stream",
     "text": [
      "\n",
      "Optimizing per-class thresholds on validation set...\n",
      "Optimized thresholds (F1-maximizing):\n",
      "  epidural            : 0.653\n",
      "  intraparenchymal    : 0.401\n",
      "  intraventricular    : 0.635\n",
      "  subarachnoid        : 0.626\n",
      "  subdural            : 0.464\n",
      "\n",
      "Validation with optimized thresholds:\n",
      "  Exact Match: 0.351 | F1: 0.605 | AUC: 0.821\n"
     ]
    }
   ],
   "source": [
    "# Optimize Per-Class Thresholds on Validation Set\n",
    "print(\"\\nOptimizing per-class thresholds on validation set...\")\n",
    "\n",
    "model.eval()\n",
    "metrics_calc_val = MetricsCalculator(num_classes=5)\n",
    "\n",
    "with torch.no_grad():\n",
    "    for images, labels in val_loader:\n",
    "        images = images.to(device)\n",
    "        labels = labels.to(device)\n",
    "        logits = model(images)\n",
    "        metrics_calc_val.update(logits, labels)\n",
    "\n",
    "optimal_thresholds = metrics_calc_val.optimize_thresholds(\n",
    "    method='f1',\n",
    "    per_class=True,\n",
    "    num_points=101\n",
    ")\n",
    "\n",
    "class_names = ['epidural', 'intraparenchymal', 'intraventricular', 'subarachnoid', 'subdural']\n",
    "\n",
    "print(\"Optimized thresholds (F1-maximizing):\")\n",
    "for i, (name, thr) in enumerate(zip(class_names, optimal_thresholds)):\n",
    "    print(f\"  {name:20s}: {thr:.3f}\")\n",
    "\n",
    "metrics_calc_val.set_thresholds(optimal_thresholds)\n",
    "optimized_metrics = metrics_calc_val.compute()\n",
    "\n",
    "print(f\"\\nValidation with optimized thresholds:\")\n",
    "print(f\"  Exact Match: {optimized_metrics.get('accuracy_exact', 0):.3f} | F1: {optimized_metrics.get('f1_macro', 0):.3f} | AUC: {optimized_metrics.get('auc_roc_macro', 0):.3f}\")\n"
   ]
  },
  {
   "cell_type": "code",
   "execution_count": 16,
   "metadata": {},
   "outputs": [
    {
     "name": "stdout",
     "output_type": "stream",
     "text": [
      "\n",
      "Evaluating on test set...\n",
      "Using TTA: standard | combine=mean\n",
      "\n",
      "Test Results (5 hemorrhage types with optimized thresholds):\n",
      "  Overall: Exact Match=0.345 | F1=0.468 | AUC=0.790\n",
      "\n",
      "  Per-class performance:\n",
      "    epidural            : P=0.000 R=0.000 F1=0.000 AUC=0.709 | thr=0.653 (no predictions)\n",
      "    intraparenchymal    : P=0.536 R=0.726 F1=0.616 AUC=0.831 | thr=0.401\n",
      "    intraventricular    : P=0.711 R=0.653 F1=0.681 AUC=0.920 | thr=0.635\n",
      "    subarachnoid        : P=0.417 R=0.717 F1=0.528 AUC=0.737 | thr=0.626\n",
      "    subdural            : P=0.424 R=0.661 F1=0.517 AUC=0.753 | thr=0.464\n",
      "\n",
      "Note: We train on 5 hemorrhage types. 'Healthy' (all 0s) and 'Multiple' (>1 type)\n",
      "      are derived classes for evaluation only, not directly trained.\n",
      "\n",
      "Saved results to: checkpoints/run_20251019_231624/test_results.json\n"
     ]
    }
   ],
   "source": [
    "# Evaluate on Test Set with TTA\n",
    "print(f\"\\nEvaluating on test set...\")\n",
    "\n",
    "# Remove W&B hooks to prevent errors during TTA inference\n",
    "if USE_WANDB:\n",
    "    import wandb\n",
    "    # Remove all hooks from the model manually\n",
    "    if hasattr(model, '_forward_hooks'):\n",
    "        model._forward_hooks.clear()\n",
    "    if hasattr(model, '_forward_pre_hooks'):\n",
    "        model._forward_pre_hooks.clear()\n",
    "    if hasattr(model, '_backward_hooks'):\n",
    "        model._backward_hooks.clear()\n",
    "    # Remove wandb hook names attribute if it exists\n",
    "    if hasattr(model, '_wandb_hook_names'):\n",
    "        delattr(model, '_wandb_hook_names')\n",
    "\n",
    "tta_config = config['evaluation']['tta']\n",
    "tta_enabled = tta_config['enabled']\n",
    "tta_strategy = tta_config.get('strategy', 'standard')\n",
    "\n",
    "if tta_enabled:\n",
    "    print(f\"Using TTA: {tta_strategy} | combine={tta_config.get('combine_method', 'mean')}\")\n",
    "    tta_wrapper = TTAWrapper(model, num_classes=5, device=device)\n",
    "    metrics_calc_test = MetricsCalculator(num_classes=5, thresholds=optimal_thresholds)\n",
    "    \n",
    "    for images, labels in test_loader:\n",
    "        images = images.to(device)\n",
    "        labels = labels.to(device)\n",
    "        probs = tta_wrapper.predict_with_tta(\n",
    "            images,\n",
    "            augmentations=tta_strategy,\n",
    "            combine=tta_config.get('combine_method', 'mean')\n",
    "        )\n",
    "        logits = torch.logit(probs.clamp(1e-7, 1 - 1e-7))\n",
    "        metrics_calc_test.update(logits, labels)\n",
    "else:\n",
    "    metrics_calc_test = MetricsCalculator(num_classes=5, thresholds=optimal_thresholds)\n",
    "    model.eval()\n",
    "    with torch.no_grad():\n",
    "        for images, labels in test_loader:\n",
    "            images = images.to(device)\n",
    "            labels = labels.to(device)\n",
    "            logits = model(images)\n",
    "            metrics_calc_test.update(logits, labels)\n",
    "\n",
    "# Compute final metrics\n",
    "test_metrics = metrics_calc_test.compute()\n",
    "\n",
    "print(f\"\\nTest Results (5 hemorrhage types with optimized thresholds):\")\n",
    "print(f\"  Overall: Exact Match={test_metrics['accuracy_exact']:.3f} | F1={test_metrics['f1_macro']:.3f} | AUC={test_metrics['auc_roc_macro']:.3f}\")\n",
    "print(f\"\\n  Per-class performance:\")\n",
    "for i, name in enumerate(class_names):\n",
    "    prec = test_metrics.get(f'precision_{name}', 0)\n",
    "    rec = test_metrics.get(f'recall_{name}', 0)\n",
    "    f1 = test_metrics.get(f'f1_{name}', 0)\n",
    "    auc = test_metrics.get(f'auc_roc_{name}', 0)\n",
    "    thr = optimal_thresholds[i]\n",
    "    status = \" (no predictions)\" if f1 == 0 else \"\"\n",
    "    print(f\"    {name:20s}: P={prec:.3f} R={rec:.3f} F1={f1:.3f} AUC={auc:.3f} | thr={thr:.3f}{status}\")\n",
    "\n",
    "print(f\"\\nNote: We train on 5 hemorrhage types. 'Healthy' (all 0s) and 'Multiple' (>1 type)\")\n",
    "print(f\"      are derived classes for evaluation only, not directly trained.\")\n",
    "\n",
    "# Save results\n",
    "results = {\n",
    "    'test_metrics': {k: float(v) for k, v in test_metrics.items()},\n",
    "    'optimal_thresholds': optimal_thresholds.tolist(),\n",
    "    'config': config,\n",
    "    'checkpoint_dir': checkpoint_dir,\n",
    "    'timestamp': timestamp,\n",
    "    'tta_enabled': tta_enabled,\n",
    "    'tta_strategy': tta_strategy if tta_enabled else None\n",
    "}\n",
    "\n",
    "results_path = f'{checkpoint_dir}/test_results.json'\n",
    "with open(results_path, 'w') as f:\n",
    "    json.dump(results, f, indent=2)\n",
    "\n",
    "print(f\"\\nSaved results to: {results_path}\")\n"
   ]
  },
  {
   "cell_type": "code",
   "execution_count": 18,
   "metadata": {},
   "outputs": [
    {
     "name": "stdout",
     "output_type": "stream",
     "text": [
      "\n",
      "Generating confusion matrices...\n",
      "Saved confusion matrices to: checkpoints/run_20251019_231624/confusion_matrices.png\n"
     ]
    },
    {
     "data": {
      "image/png": "[encoded data removed]",
      "text/plain": [
       "<Figure size 1500x1000 with 6 Axes>"
      ]
     },
     "metadata": {},
     "output_type": "display_data"
    }
   ],
   "source": [
    "# Plot confusion matrices for each class\n",
    "from sklearn.metrics import confusion_matrix\n",
    "from matplotlib.colors import LinearSegmentedColormap\n",
    "\n",
    "print(\"\\nGenerating confusion matrices...\")\n",
    "\n",
    "# Get predictions and ground truth\n",
    "model.eval()\n",
    "all_preds = []\n",
    "all_labels = []\n",
    "\n",
    "with torch.no_grad():\n",
    "    for images, labels in test_loader:\n",
    "        images = images.to(device)\n",
    "        logits = model(images)\n",
    "        probs = torch.sigmoid(logits)\n",
    "        \n",
    "        # Apply optimized thresholds\n",
    "        preds = torch.zeros_like(probs)\n",
    "        for i, thr in enumerate(optimal_thresholds):\n",
    "            preds[:, i] = (probs[:, i] >= thr).float()\n",
    "        \n",
    "        all_preds.append(preds.cpu().numpy())\n",
    "        all_labels.append(labels.numpy())\n",
    "\n",
    "all_preds = np.concatenate(all_preds, axis=0)\n",
    "all_labels = np.concatenate(all_labels, axis=0)\n",
    "\n",
    "# Create figure with confusion matrices\n",
    "fig, axes = plt.subplots(2, 3, figsize=(15, 10))\n",
    "axes = axes.flatten()\n",
    "\n",
    "class_names_display = ['Epidural', 'Intraparenchymal', 'Intraventricular', 'Subarachnoid', 'Subdural']\n",
    "colors = ['#8dd3c7', '#fb8072', '#80b1d3', '#fdb462', '#b3de69']\n",
    "\n",
    "for i, (name, color) in enumerate(zip(class_names_display, colors)):\n",
    "    cm = confusion_matrix(all_labels[:, i], all_preds[:, i])\n",
    "    \n",
    "    # Create custom colormap from white to the class color\n",
    "    cmap = LinearSegmentedColormap.from_list(f'cmap_{i}', ['white', color])\n",
    "    \n",
    "    # Plot confusion matrix\n",
    "    sns.heatmap(cm, annot=True, fmt='d', cmap=cmap, \n",
    "                ax=axes[i], cbar=False, annot_kws={'size': 14, 'weight': 'bold'},\n",
    "                vmin=0, vmax=cm.max())\n",
    "    \n",
    "    axes[i].set_title(f'{name}', fontsize=12, fontweight='bold')\n",
    "    axes[i].set_xlabel('Predicted', fontsize=10)\n",
    "    axes[i].set_ylabel('Actual', fontsize=10)\n",
    "    axes[i].set_xticklabels(['Negative', 'Positive'])\n",
    "    axes[i].set_yticklabels(['Negative', 'Positive'])\n",
    "    \n",
    "    # Add metrics below title\n",
    "    tn, fp, fn, tp = cm.ravel()\n",
    "    thr = optimal_thresholds[i]\n",
    "    f1 = test_metrics.get(f'f1_{class_names[i]}', 0)\n",
    "    axes[i].text(0.5, 1.15, f'F1={f1:.3f} | Threshold={thr:.3f}', \n",
    "                ha='center', va='top', transform=axes[i].transAxes, \n",
    "                fontsize=9, style='italic')\n",
    "\n",
    "# Hide the 6th subplot\n",
    "axes[5].axis('off')\n",
    "\n",
    "plt.suptitle('Confusion Matrices - Multi-Label Brain Hemorrhage Classification', \n",
    "             fontsize=14, fontweight='bold', y=0.995)\n",
    "plt.tight_layout()\n",
    "\n",
    "# Save figure\n",
    "cm_path = f'{checkpoint_dir}/confusion_matrices.png'\n",
    "plt.savefig(cm_path, dpi=150, bbox_inches='tight')\n",
    "print(f\"Saved confusion matrices to: {cm_path}\")\n",
    "\n",
    "plt.show()"
   ]
  },
  {
   "cell_type": "code",
   "execution_count": 19,
   "metadata": {},
   "outputs": [
    {
     "name": "stdout",
     "output_type": "stream",
     "text": [
      "\n",
      "Generating performance metrics chart...\n",
      "Saved to: checkpoints/run_20251019_231624/per_class_metrics.png\n"
     ]
    },
    {
     "data": {
      "image/png": "[encoded data removed]",
      "text/plain": [
       "<Figure size 1400x600 with 1 Axes>"
      ]
     },
     "metadata": {},
     "output_type": "display_data"
    }
   ],
   "source": [
    "# Create bar chart of per-class metrics\n",
    "print(\"\\nGenerating performance metrics chart...\")\n",
    "\n",
    "class_names_display = ['Epidural', 'Intraparenchymal', 'Intraventricular', 'Subarachnoid', 'Subdural']\n",
    "\n",
    "precisions = [test_metrics[f'precision_{name}'] for name in class_names]\n",
    "recalls = [test_metrics[f'recall_{name}'] for name in class_names]\n",
    "f1_scores = [test_metrics[f'f1_{name}'] for name in class_names]\n",
    "aucs = [test_metrics.get(f'auc_roc_{name}', 0) for name in class_names]\n",
    "\n",
    "x = np.arange(len(class_names_display))\n",
    "width = 0.2\n",
    "\n",
    "fig, ax = plt.subplots(figsize=(14, 6))\n",
    "ax.bar(x - 1.5*width, precisions, width, label='Precision', color='#3498db')\n",
    "ax.bar(x - 0.5*width, recalls, width, label='Recall', color='#e74c3c')\n",
    "ax.bar(x + 0.5*width, f1_scores, width, label='F1-Score', color='#2ecc71')\n",
    "ax.bar(x + 1.5*width, aucs, width, label='AUC-ROC', color='#9b59b6')\n",
    "\n",
    "ax.set_xlabel('Hemorrhage Type', fontsize=12)\n",
    "ax.set_ylabel('Score', fontsize=12)\n",
    "ax.set_title('Per-Class Performance Metrics', fontsize=14, fontweight='bold')\n",
    "ax.set_xticks(x)\n",
    "ax.set_xticklabels(class_names_display, rotation=45, ha='right')\n",
    "ax.legend()\n",
    "ax.grid(axis='y', alpha=0.3)\n",
    "ax.set_ylim([0, 1])\n",
    "\n",
    "plt.tight_layout()\n",
    "\n",
    "metrics_path = f'{checkpoint_dir}/per_class_metrics.png'\n",
    "plt.savefig(metrics_path, dpi=150, bbox_inches='tight')\n",
    "print(f\"Saved to: {metrics_path}\")\n",
    "plt.show()\n"
   ]
  },
  {
   "cell_type": "code",
   "execution_count": 20,
   "metadata": {},
   "outputs": [
    {
     "name": "stdout",
     "output_type": "stream",
     "text": [
      "\n",
      "Generating ROC curves...\n",
      "Saved to: checkpoints/run_20251019_231624/roc_curves_all_classes.png\n"
     ]
    },
    {
     "data": {
      "image/png": "[encoded data removed]",
      "text/plain": [
       "<Figure size 1000x800 with 1 Axes>"
      ]
     },
     "metadata": {},
     "output_type": "display_data"
    }
   ],
   "source": [
    "# Plot ROC Curves including derived classes (Healthy and Multiple)\n",
    "print(\"\\nGenerating ROC curves...\")\n",
    "\n",
    "from sklearn.metrics import roc_curve, auc as compute_auc\n",
    "\n",
    "# Get probabilities (reuse from confusion matrix cell)\n",
    "model.eval()\n",
    "all_probs = []\n",
    "all_targets = []\n",
    "\n",
    "with torch.no_grad():\n",
    "    for images, labels in test_loader:\n",
    "        images = images.to(device)\n",
    "        logits = model(images)\n",
    "        probs = torch.sigmoid(logits).cpu().numpy()\n",
    "        all_probs.append(probs)\n",
    "        all_targets.append(labels.numpy())\n",
    "\n",
    "all_probs = np.concatenate(all_probs, axis=0)\n",
    "all_targets = np.concatenate(all_targets, axis=0)\n",
    "\n",
    "# Compute derived classes\n",
    "healthy_targets = (all_targets.sum(axis=1) == 0).astype(int)\n",
    "multiple_targets = (all_targets.sum(axis=1) > 1).astype(int)\n",
    "\n",
    "healthy_probs = np.prod(1 - all_probs, axis=1)\n",
    "prob_none = np.prod(1 - all_probs, axis=1)\n",
    "prob_exactly_one = sum([all_probs[:, i] * np.prod(1 - np.delete(all_probs, i, axis=1), axis=1) \n",
    "                        for i in range(5)])\n",
    "multiple_probs = 1 - prob_none - prob_exactly_one\n",
    "\n",
    "# All 7 classes (5 trained + 2 derived)\n",
    "class_names_roc = ['Healthy', 'Epidural', 'Intraparenchymal', 'Intraventricular', 'Subarachnoid', 'Subdural', 'Multiple']\n",
    "all_targets_list = [healthy_targets] + [all_targets[:, i] for i in range(5)] + [multiple_targets]\n",
    "all_probs_list = [healthy_probs] + [all_probs[:, i] for i in range(5)] + [multiple_probs]\n",
    "colors = ['#8dd3c7', '#fb8072', '#80b1d3', '#fdb462', '#b3de69', '#fccde5', '#bebada']\n",
    "\n",
    "fig, ax = plt.subplots(figsize=(10, 8))\n",
    "\n",
    "for name, targets, probs, color in zip(class_names_roc, all_targets_list, all_probs_list, colors):\n",
    "    if len(np.unique(targets)) > 1:\n",
    "        fpr, tpr, _ = roc_curve(targets, probs)\n",
    "        roc_auc = compute_auc(fpr, tpr)\n",
    "        ax.plot(fpr, tpr, color=color, lw=2, alpha=0.8, label=f'{name} (AUC={roc_auc:.3f})')\n",
    "\n",
    "ax.plot([0, 1], [0, 1], 'k--', lw=1.5, alpha=0.5, label='Random')\n",
    "ax.set_xlim([0.0, 1.0])\n",
    "ax.set_ylim([0.0, 1.05])\n",
    "ax.set_xlabel('False Positive Rate', fontsize=12)\n",
    "ax.set_ylabel('True Positive Rate', fontsize=12)\n",
    "ax.set_title('ROC Curves - 5 Trained + 2 Derived Classes', fontsize=14, fontweight='bold')\n",
    "ax.legend(loc='lower right', fontsize=9)\n",
    "ax.grid(alpha=0.3, linestyle='--')\n",
    "\n",
    "plt.tight_layout()\n",
    "\n",
    "roc_path = f'{checkpoint_dir}/roc_curves_all_classes.png'\n",
    "plt.savefig(roc_path, dpi=150, bbox_inches='tight')\n",
    "print(f\"Saved to: {roc_path}\")\n",
    "plt.show()"
   ]
  }
 ],
 "metadata": {
  "kernelspec": {
   "display_name": "tfg-noah",
   "language": "python",
   "name": "python3"
  },
  "language_info": {
   "codemirror_mode": {
    "name": "ipython",
    "version": 3
   },
   "file_extension": ".py",
   "mimetype": "text/x-python",
   "name": "python",
   "nbconvert_exporter": "python",
   "pygments_lexer": "ipython3",
   "version": "3.10.13"
  }
 },
 "nbformat": 4,
 "nbformat_minor": 2
}
