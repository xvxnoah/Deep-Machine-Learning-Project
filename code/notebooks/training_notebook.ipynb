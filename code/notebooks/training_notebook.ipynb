{
 "cells": [
  {
   "cell_type": "code",
   "execution_count": 1,
   "metadata": {},
   "outputs": [
    {
     "name": "stderr",
     "output_type": "stream",
     "text": [
      "/chalmers/users/felixbj/Programming/deep-ml/Deep-Machine-Learning-Project/.venv/lib/python3.11/site-packages/pydantic/_internal/_generate_schema.py:2249: UnsupportedFieldAttributeWarning: The 'repr' attribute with value False was provided to the `Field()` function, which has no effect in the context it was used. 'repr' is field-specific metadata, and can only be attached to a model field using `Annotated` metadata or by assignment. This may have happened because an `Annotated` type alias using the `type` statement was used, or if the `Field()` function was attached to a single member of a union type.\n",
      "  warnings.warn(\n",
      "/chalmers/users/felixbj/Programming/deep-ml/Deep-Machine-Learning-Project/.venv/lib/python3.11/site-packages/pydantic/_internal/_generate_schema.py:2249: UnsupportedFieldAttributeWarning: The 'frozen' attribute with value True was provided to the `Field()` function, which has no effect in the context it was used. 'frozen' is field-specific metadata, and can only be attached to a model field using `Annotated` metadata or by assignment. This may have happened because an `Annotated` type alias using the `type` statement was used, or if the `Field()` function was attached to a single member of a union type.\n",
      "  warnings.warn(\n"
     ]
    },
    {
     "name": "stdout",
     "output_type": "stream",
     "text": [
      "PyTorch version: 2.9.0+cu128\n",
      "CUDA available: True\n",
      "MPS available: False\n",
      "MPS fallback enabled: 1\n"
     ]
    }
   ],
   "source": [
    "import os\n",
    "import sys\n",
    "import json\n",
    "import numpy as np\n",
    "import matplotlib.pyplot as plt\n",
    "import seaborn as sns\n",
    "from pathlib import Path\n",
    "\n",
    "# Enable MPS fallback for unsupported operations\n",
    "os.environ['PYTORCH_ENABLE_MPS_FALLBACK'] = '1'\n",
    "\n",
    "import torch\n",
    "import torch.nn as nn\n",
    "import torch.optim as optim\n",
    "from torch.utils.data import DataLoader\n",
    "\n",
    "sys.path.append('..')\n",
    "\n",
    "from dataset import PreprocessedDataset\n",
    "from models import ViTTripletBiRNNClassifier\n",
    "from utils import (\n",
    "    MetricsCalculator,\n",
    "    compute_class_weights,\n",
    "    Trainer,\n",
    "    WeightedBCELoss\n",
    ")\n",
    "from utils.config_utils import load_config, load_env, get_device, print_config, validate_config\n",
    "from utils.data_analysis import analyze_dataset\n",
    "\n",
    "import wandb\n",
    "\n",
    "SEED = 5252\n",
    "torch.manual_seed(SEED)\n",
    "np.random.seed(SEED)\n",
    "\n",
    "print(f\"PyTorch version: {torch.__version__}\")\n",
    "print(f\"CUDA available: {torch.cuda.is_available()}\")\n",
    "print(f\"MPS available: {torch.backends.mps.is_available()}\")\n",
    "print(f\"MPS fallback enabled: {os.environ.get('PYTORCH_ENABLE_MPS_FALLBACK', '0')}\")\n"
   ]
  },
  {
   "cell_type": "code",
   "execution_count": 2,
   "metadata": {},
   "outputs": [
    {
     "name": "stdout",
     "output_type": "stream",
     "text": [
      "Warning: .env file not found. W&B API key should be set manually.\n",
      "✓ Configuration validated successfully\n",
      "\n",
      "Configuration:\n",
      "model:\n",
      "  name: ../pre-trained-model\n",
      "  pretrained: True\n",
      "  num_classes: 5\n",
      "  input_channels: 9\n",
      "  slice_channels: 3\n",
      "  dropout: 0.1\n",
      "  backend: huggingface\n",
      "  rnn_hidden_size: 512\n",
      "  rnn_num_layers: 1\n",
      "  rnn_dropout: 0.0\n",
      "  sequence_pooling: last\n",
      "data:\n",
      "  data_root: processed_data\n",
      "  train_split: train\n",
      "  val_split: val\n",
      "  test_split: test\n",
      "  batch_size: 128\n",
      "  num_workers: 12\n",
      "  pin_memory: True\n",
      "training:\n",
      "  epochs: 100\n",
      "  learning_rate: 0.0001\n",
      "  weight_decay: 1e-05\n",
      "  optimizer: adamw\n",
      "  scheduler: cosine\n",
      "  warmup_epochs: 5\n",
      "  gradient_clip: 1.0\n",
      "  early_stopping:\n",
      "    enabled: True\n",
      "    patience: 10\n",
      "    min_delta: 0.0\n",
      "    mode: max\n",
      "loss:\n",
      "  type: weighted_bce\n",
      "  pos_weight_strategy: inverse_freq\n",
      "metrics:\n",
      "  track_per_class: True\n",
      "  metrics_list: ['auc_roc', 'precision', 'recall', 'f1_score', 'accuracy']\n",
      "  threshold: 0.5\n",
      "wandb:\n",
      "  project: Deep Machine Learning Project\n",
      "  entity: None\n",
      "  log_interval: 10\n",
      "  log_model: True\n",
      "  watch_model: True\n",
      "checkpoint:\n",
      "  save_dir: checkpoints\n",
      "  save_frequency: 5\n",
      "  save_best: True\n",
      "  metric_for_best: val_auc_roc_macro\n",
      "  mode: max\n",
      "hardware:\n",
      "  device: auto\n",
      "  seed: 5252\n",
      "Using CUDA device: NVIDIA GeForce RTX 3070\n",
      "\n",
      "Using device: cuda\n"
     ]
    }
   ],
   "source": [
    "# Load environment variables and config\n",
    "env_vars = load_env()\n",
    "config = load_config('../configs/base_config.yaml')\n",
    "validate_config(config)\n",
    "\n",
    "print(\"\\nConfiguration:\")\n",
    "print_config(config)\n",
    "\n",
    "# Get device\n",
    "device = get_device(config['hardware']['device'])\n",
    "print(f\"\\nUsing device: {device}\")"
   ]
  },
  {
   "cell_type": "markdown",
   "metadata": {},
   "source": [
    "## 2. Load Datasets\n"
   ]
  },
  {
   "cell_type": "code",
   "execution_count": 3,
   "metadata": {},
   "outputs": [
    {
     "name": "stdout",
     "output_type": "stream",
     "text": [
      "Dataset sizes:\n",
      "  Train: 1828 samples\n",
      "  Val:   228 samples\n",
      "  Test:  229 samples\n",
      "\n",
      "DataLoaders created:\n",
      "  Train batches: 15\n",
      "  Val batches:   2\n",
      "  Test batches:  2\n"
     ]
    }
   ],
   "source": [
    "# Create datasets\n",
    "data_root = config['data']['data_root']\n",
    "\n",
    "train_dataset = PreprocessedDataset(root_dir=os.path.join('..', data_root, 'train'))\n",
    "val_dataset = PreprocessedDataset(root_dir=os.path.join('..', data_root, 'val'))\n",
    "test_dataset = PreprocessedDataset(root_dir=os.path.join('..', data_root, 'test'))\n",
    "\n",
    "print(f\"Dataset sizes:\")\n",
    "print(f\"  Train: {len(train_dataset)} samples\")\n",
    "print(f\"  Val:   {len(val_dataset)} samples\")\n",
    "print(f\"  Test:  {len(test_dataset)} samples\")\n",
    "\n",
    "# Create data loaders\n",
    "train_loader = DataLoader(\n",
    "    train_dataset,\n",
    "    batch_size=config['data']['batch_size'],\n",
    "    shuffle=True,\n",
    "    num_workers=config['data']['num_workers'],\n",
    "    pin_memory=config['data']['pin_memory']\n",
    ")\n",
    "\n",
    "val_loader = DataLoader(\n",
    "    val_dataset,\n",
    "    batch_size=config['data']['batch_size'],\n",
    "    shuffle=False,\n",
    "    num_workers=config['data']['num_workers'],\n",
    "    pin_memory=config['data']['pin_memory']\n",
    ")\n",
    "\n",
    "test_loader = DataLoader(\n",
    "    test_dataset,\n",
    "    batch_size=config['data']['batch_size'],\n",
    "    shuffle=False,\n",
    "    num_workers=config['data']['num_workers'],\n",
    "    pin_memory=config['data']['pin_memory']\n",
    ")\n",
    "\n",
    "print(f\"\\nDataLoaders created:\")\n",
    "print(f\"  Train batches: {len(train_loader)}\")\n",
    "print(f\"  Val batches:   {len(val_loader)}\")\n",
    "print(f\"  Test batches:  {len(test_loader)}\")\n"
   ]
  },
  {
   "cell_type": "code",
   "execution_count": 4,
   "metadata": {},
   "outputs": [
    {
     "name": "stdout",
     "output_type": "stream",
     "text": [
      "Computing class weights from dataset...\n",
      "\n",
      "Class Distribution:\n",
      "------------------------------------------------------------\n",
      "epidural            :    90 pos ( 4.92%),  1738 neg, weight: 19.3111\n",
      "intraparenchymal    :   447 pos (24.45%),  1381 neg, weight: 3.0895\n",
      "intraventricular    :   400 pos (21.88%),  1428 neg, weight: 3.5700\n",
      "subarachnoid        :   515 pos (28.17%),  1313 neg, weight: 2.5495\n",
      "subdural            :   465 pos (25.44%),  1363 neg, weight: 2.9312\n",
      "------------------------------------------------------------\n",
      "\n",
      "Computed class weights:\n",
      "  epidural            : 19.3111\n",
      "  intraparenchymal    : 3.0895\n",
      "  intraventricular    : 3.5700\n",
      "  subarachnoid        : 2.5495\n",
      "  subdural            : 2.9312\n"
     ]
    }
   ],
   "source": [
    "# Compute class weights from training data\n",
    "class_weights = compute_class_weights(\n",
    "    train_dataset,\n",
    "    strategy=config['loss']['pos_weight_strategy']\n",
    ")\n",
    "\n",
    "print(f\"\\nComputed class weights:\")\n",
    "class_names = ['epidural', 'intraparenchymal', 'intraventricular', 'subarachnoid', 'subdural']\n",
    "for name, weight in zip(class_names, class_weights):\n",
    "    print(f\"  {name:20s}: {weight:.4f}\")\n",
    "\n",
    "# Move to device\n",
    "class_weights = class_weights.to(device)"
   ]
  },
  {
   "cell_type": "code",
   "execution_count": 5,
   "metadata": {},
   "outputs": [
    {
     "name": "stderr",
     "output_type": "stream",
     "text": [
      "Some weights of ViTModel were not initialized from the model checkpoint at ../pre-trained-model and are newly initialized: ['pooler.dense.bias', 'pooler.dense.weight']\n",
      "You should probably TRAIN this model on a down-stream task to be able to use it for predictions and inference.\n"
     ]
    },
    {
     "name": "stdout",
     "output_type": "stream",
     "text": [
      "\n",
      "Model: ../pre-trained-model\n",
      "Backend: huggingface\n",
      "Slices per sample: 3\n",
      "Total parameters: 91,647,493\n",
      "Trainable parameters: 5,258,245 (ViT backbone frozen)\n"
     ]
    }
   ],
   "source": [
    "# Create model\n",
    "model = ViTTripletBiRNNClassifier(\n",
    "    model_name=config['model']['name'],\n",
    "    num_classes=config['model']['num_classes'],\n",
    "    pretrained=config['model']['pretrained'],\n",
    "    input_channels=config['model']['input_channels'],\n",
    "    slice_channels=config['model'].get('slice_channels', 3),\n",
    "    dropout=config['model']['dropout'],\n",
    "    rnn_hidden_size=config['model'].get('rnn_hidden_size', 512),\n",
    "    rnn_num_layers=config['model'].get('rnn_num_layers', 1),\n",
    "    rnn_dropout=config['model'].get('rnn_dropout', 0.0),\n",
    "    sequence_pooling=config['model'].get('sequence_pooling', 'last'),\n",
    "    backend=config['model'].get('backend', 'huggingface')\n",
    ")\n",
    "\n",
    "model.freeze_backbone()\n",
    "\n",
    "model = model.to(device)\n",
    "\n",
    "# Print model summary\n",
    "total_params = sum(p.numel() for p in model.parameters())\n",
    "trainable_params = sum(p.numel() for p in model.parameters() if p.requires_grad)\n",
    "\n",
    "print(f\"\\nModel: {config['model']['name']}\")\n",
    "print(f\"Backend: {config['model'].get('backend', 'huggingface')}\")\n",
    "print(f\"Slices per sample: {model.num_slices}\")\n",
    "print(f\"Total parameters: {total_params:,}\")\n",
    "print(f\"Trainable parameters: {trainable_params:,} (ViT backbone frozen)\")"
   ]
  },
  {
   "cell_type": "code",
   "execution_count": 6,
   "metadata": {},
   "outputs": [
    {
     "name": "stdout",
     "output_type": "stream",
     "text": [
      "Using Weighted Binary Cross Entropy Loss\n",
      "Using Cosine Annealing LR Scheduler\n",
      "\n",
      "Optimizer: AdamW\n",
      "  Learning rate: 0.0001\n",
      "  Weight decay: 1e-05\n"
     ]
    }
   ],
   "source": [
    "# Loss function\n",
    "criterion = WeightedBCELoss(pos_weights=class_weights)\n",
    "print(\"Using Weighted Binary Cross Entropy Loss\")\n",
    "\n",
    "# Optimizer\n",
    "optimizer = optim.AdamW(\n",
    "    model.parameters(),\n",
    "    lr=config['training']['learning_rate'],\n",
    "    weight_decay=config['training']['weight_decay']\n",
    ")\n",
    "\n",
    "# Learning rate scheduler\n",
    "if config['training']['scheduler'] == 'cosine':\n",
    "    scheduler = optim.lr_scheduler.CosineAnnealingLR(\n",
    "        optimizer,\n",
    "        T_max=config['training']['epochs'],\n",
    "        eta_min=1e-6\n",
    "    )\n",
    "    print(\"Using Cosine Annealing LR Scheduler\")\n",
    "elif config['training']['scheduler'] == 'step':\n",
    "    scheduler = optim.lr_scheduler.StepLR(\n",
    "        optimizer,\n",
    "        step_size=10,\n",
    "        gamma=0.1\n",
    "    )\n",
    "    print(\"Using Step LR Scheduler\")\n",
    "else:\n",
    "    scheduler = None\n",
    "    print(\"No LR Scheduler\")\n",
    "\n",
    "print(f\"\\nOptimizer: AdamW\")\n",
    "print(f\"  Learning rate: {config['training']['learning_rate']}\")\n",
    "print(f\"  Weight decay: {config['training']['weight_decay']}\")\n"
   ]
  },
  {
   "cell_type": "code",
   "execution_count": 7,
   "metadata": {},
   "outputs": [
    {
     "name": "stderr",
     "output_type": "stream",
     "text": [
      "\u001b[34m\u001b[1mwandb\u001b[0m: Currently logged in as: \u001b[33mfelixbj\u001b[0m (\u001b[33mfelixbj-chalmers-university-of-technology\u001b[0m) to \u001b[32mhttps://api.wandb.ai\u001b[0m. Use \u001b[1m`wandb login --relogin`\u001b[0m to force relogin\n"
     ]
    },
    {
     "data": {
      "text/html": [],
      "text/plain": [
       "<IPython.core.display.HTML object>"
      ]
     },
     "metadata": {},
     "output_type": "display_data"
    },
    {
     "data": {
      "text/html": [
       "Tracking run with wandb version 0.22.2"
      ],
      "text/plain": [
       "<IPython.core.display.HTML object>"
      ]
     },
     "metadata": {},
     "output_type": "display_data"
    },
    {
     "data": {
      "text/html": [
       "Run data is saved locally in <code>/chalmers/users/felixbj/Programming/deep-ml/Deep-Machine-Learning-Project/notebooks/wandb/run-20251020_123112-moou6gfw</code>"
      ],
      "text/plain": [
       "<IPython.core.display.HTML object>"
      ]
     },
     "metadata": {},
     "output_type": "display_data"
    },
    {
     "data": {
      "text/html": [
       "Syncing run <strong><a href='https://wandb.ai/felixbj-chalmers-university-of-technology/Deep%20Machine%20Learning%20Project/runs/moou6gfw' target=\"_blank\">vit_ich_training</a></strong> to <a href='https://wandb.ai/felixbj-chalmers-university-of-technology/Deep%20Machine%20Learning%20Project' target=\"_blank\">Weights & Biases</a> (<a href='https://wandb.me/developer-guide' target=\"_blank\">docs</a>)<br>"
      ],
      "text/plain": [
       "<IPython.core.display.HTML object>"
      ]
     },
     "metadata": {},
     "output_type": "display_data"
    },
    {
     "data": {
      "text/html": [
       " View project at <a href='https://wandb.ai/felixbj-chalmers-university-of-technology/Deep%20Machine%20Learning%20Project' target=\"_blank\">https://wandb.ai/felixbj-chalmers-university-of-technology/Deep%20Machine%20Learning%20Project</a>"
      ],
      "text/plain": [
       "<IPython.core.display.HTML object>"
      ]
     },
     "metadata": {},
     "output_type": "display_data"
    },
    {
     "data": {
      "text/html": [
       " View run at <a href='https://wandb.ai/felixbj-chalmers-university-of-technology/Deep%20Machine%20Learning%20Project/runs/moou6gfw' target=\"_blank\">https://wandb.ai/felixbj-chalmers-university-of-technology/Deep%20Machine%20Learning%20Project/runs/moou6gfw</a>"
      ],
      "text/plain": [
       "<IPython.core.display.HTML object>"
      ]
     },
     "metadata": {},
     "output_type": "display_data"
    },
    {
     "name": "stderr",
     "output_type": "stream",
     "text": [
      "\u001b[34m\u001b[1mwandb\u001b[0m: \u001b[33mWARNING\u001b[0m The get_url method is deprecated and will be removed in a future release. Please use `run.url` instead.\n"
     ]
    },
    {
     "name": "stdout",
     "output_type": "stream",
     "text": [
      "✓ W&B initialized: vit_ich_training\n",
      "  Project: Deep Machine Learning Project\n",
      "  Run URL: https://wandb.ai/felixbj-chalmers-university-of-technology/Deep%20Machine%20Learning%20Project/runs/moou6gfw\n"
     ]
    }
   ],
   "source": [
    "# Initialize W&B\n",
    "USE_WANDB = True \n",
    "\n",
    "if USE_WANDB:\n",
    "    # Login to W&B (if not already logged in)\n",
    "    if env_vars.get('WANDB_API_KEY'):\n",
    "        wandb.login(key=env_vars['WANDB_API_KEY'])\n",
    "    \n",
    "    # Initialize run\n",
    "    run = wandb.init(\n",
    "        project=config['wandb']['project'],\n",
    "        entity=env_vars.get('WANDB_ENTITY'),\n",
    "        name=env_vars.get('NOTEBOOK_NAME', 'vit_ich_training'),\n",
    "        config=config,\n",
    "        tags=['vit', 'ich', 'multi-label', 'transformer']\n",
    "    )\n",
    "    \n",
    "    # Watch model (log gradients and parameters)\n",
    "    if config['wandb']['watch_model']:\n",
    "        wandb.watch(model, log='all', log_freq=100)\n",
    "    \n",
    "    print(f\"✓ W&B initialized: {wandb.run.name}\")\n",
    "    print(f\"  Project: {config['wandb']['project']}\")\n",
    "    print(f\"  Run URL: {wandb.run.get_url()}\")\n",
    "else:\n",
    "    print(\"W&B disabled\")\n"
   ]
  },
  {
   "cell_type": "code",
   "execution_count": null,
   "metadata": {},
   "outputs": [],
   "source": [
    "# Create trainer\n",
    "trainer = Trainer(\n",
    "    model=model,\n",
    "    train_loader=train_loader,\n",
    "    val_loader=val_loader,\n",
    "    criterion=criterion,\n",
    "    optimizer=optimizer,\n",
    "    scheduler=scheduler,\n",
    "    device=device,\n",
    "    config=config,\n",
    "    use_wandb=USE_WANDB\n",
    ")\n",
    "\n",
    "# Train the model\n",
    "trainer.fit(epochs=config['training']['epochs'])"
   ]
  },
  {
   "cell_type": "code",
   "execution_count": 9,
   "metadata": {},
   "outputs": [
    {
     "name": "stdout",
     "output_type": "stream",
     "text": [
      "Loading best model from checkpoints/best_model.pt\n",
      "Loaded checkpoint from epoch 26\n",
      "  Best validation val_auc_roc_macro: 0.8682\n",
      "\n",
      "================================================================================\n",
      "Running Test Evaluation\n",
      "================================================================================\n",
      "\n"
     ]
    },
    {
     "name": "stderr",
     "output_type": "stream",
     "text": [
      "Testing: 100%|██████████| 2/2 [00:06<00:00,  3.20s/it]"
     ]
    },
    {
     "name": "stdout",
     "output_type": "stream",
     "text": [
      "\n",
      "================================================================================\n",
      "TEST CLASSIFICATION REPORT\n",
      "================================================================================\n",
      "\n",
      "Overall Metrics:\n",
      "  Exact Match Accuracy: 0.5153\n",
      "  Hamming Accuracy:     0.8550\n",
      "  AUC-ROC (Macro):      0.8886\n",
      "  AUC-ROC (Micro):      0.9070\n",
      "  F1 (Macro):           0.6554\n",
      "\n",
      "Per-Class Metrics:\n",
      "Class                 Precision     Recall   F1-Score    AUC-ROC\n",
      "----------------------------------------------------------------------\n",
      "epidural                 0.3750     0.5455     0.4444     0.8403\n",
      "intraparenchymal         0.6825     0.6935     0.6880     0.8988\n",
      "intraventricular         0.7119     0.8571     0.7778     0.9516\n",
      "subarachnoid             0.5897     0.7667     0.6667     0.8581\n",
      "subdural                 0.6049     0.8305     0.7000     0.8941\n",
      "================================================================================\n",
      "\n"
     ]
    },
    {
     "name": "stderr",
     "output_type": "stream",
     "text": [
      "\n"
     ]
    }
   ],
   "source": [
    "# Load best checkpoint\n",
    "best_checkpoint_path = Path('./checkpoints/best_model.pt')\n",
    "\n",
    "if best_checkpoint_path.exists():\n",
    "    print(f\"Loading best model from {best_checkpoint_path}\")\n",
    "    checkpoint = trainer.load_checkpoint(best_checkpoint_path)\n",
    "    print(f\"  Best validation {trainer.best_metric_name}: {checkpoint['best_metric']:.4f}\")\n",
    "else:\n",
    "    print(\"No checkpoint found, using current model\")\n",
    "\n",
    "# Evaluate on test set\n",
    "test_metrics = trainer.test(test_loader)\n"
   ]
  },
  {
   "cell_type": "code",
   "execution_count": 10,
   "metadata": {},
   "outputs": [
    {
     "ename": "FileNotFoundError",
     "evalue": "[Errno 2] No such file or directory: '../checkpoints/per_class_metrics.png'",
     "output_type": "error",
     "traceback": [
      "\u001b[31m---------------------------------------------------------------------------\u001b[39m",
      "\u001b[31mFileNotFoundError\u001b[39m                         Traceback (most recent call last)",
      "\u001b[36mCell\u001b[39m\u001b[36m \u001b[39m\u001b[32mIn[10]\u001b[39m\u001b[32m, line 31\u001b[39m\n\u001b[32m     28\u001b[39m ax.set_ylim([\u001b[32m0\u001b[39m, \u001b[32m1\u001b[39m])\n\u001b[32m     30\u001b[39m plt.tight_layout()\n\u001b[32m---> \u001b[39m\u001b[32m31\u001b[39m \u001b[43mplt\u001b[49m\u001b[43m.\u001b[49m\u001b[43msavefig\u001b[49m\u001b[43m(\u001b[49m\u001b[33;43m'\u001b[39;49m\u001b[33;43m../checkpoints/per_class_metrics.png\u001b[39;49m\u001b[33;43m'\u001b[39;49m\u001b[43m,\u001b[49m\u001b[43m \u001b[49m\u001b[43mdpi\u001b[49m\u001b[43m=\u001b[49m\u001b[32;43m150\u001b[39;49m\u001b[43m,\u001b[49m\u001b[43m \u001b[49m\u001b[43mbbox_inches\u001b[49m\u001b[43m=\u001b[49m\u001b[33;43m'\u001b[39;49m\u001b[33;43mtight\u001b[39;49m\u001b[33;43m'\u001b[39;49m\u001b[43m)\u001b[49m\n\u001b[32m     32\u001b[39m plt.show()\n\u001b[32m     34\u001b[39m \u001b[38;5;66;03m# Log to W&B\u001b[39;00m\n",
      "\u001b[36mFile \u001b[39m\u001b[32m~/Programming/deep-ml/Deep-Machine-Learning-Project/.venv/lib/python3.11/site-packages/matplotlib/pyplot.py:1250\u001b[39m, in \u001b[36msavefig\u001b[39m\u001b[34m(*args, **kwargs)\u001b[39m\n\u001b[32m   1247\u001b[39m fig = gcf()\n\u001b[32m   1248\u001b[39m \u001b[38;5;66;03m# savefig default implementation has no return, so mypy is unhappy\u001b[39;00m\n\u001b[32m   1249\u001b[39m \u001b[38;5;66;03m# presumably this is here because subclasses can return?\u001b[39;00m\n\u001b[32m-> \u001b[39m\u001b[32m1250\u001b[39m res = \u001b[43mfig\u001b[49m\u001b[43m.\u001b[49m\u001b[43msavefig\u001b[49m\u001b[43m(\u001b[49m\u001b[43m*\u001b[49m\u001b[43margs\u001b[49m\u001b[43m,\u001b[49m\u001b[43m \u001b[49m\u001b[43m*\u001b[49m\u001b[43m*\u001b[49m\u001b[43mkwargs\u001b[49m\u001b[43m)\u001b[49m  \u001b[38;5;66;03m# type: ignore[func-returns-value]\u001b[39;00m\n\u001b[32m   1251\u001b[39m fig.canvas.draw_idle()  \u001b[38;5;66;03m# Need this if 'transparent=True', to reset colors.\u001b[39;00m\n\u001b[32m   1252\u001b[39m \u001b[38;5;28;01mreturn\u001b[39;00m res\n",
      "\u001b[36mFile \u001b[39m\u001b[32m~/Programming/deep-ml/Deep-Machine-Learning-Project/.venv/lib/python3.11/site-packages/matplotlib/figure.py:3490\u001b[39m, in \u001b[36mFigure.savefig\u001b[39m\u001b[34m(self, fname, transparent, **kwargs)\u001b[39m\n\u001b[32m   3488\u001b[39m     \u001b[38;5;28;01mfor\u001b[39;00m ax \u001b[38;5;129;01min\u001b[39;00m \u001b[38;5;28mself\u001b[39m.axes:\n\u001b[32m   3489\u001b[39m         _recursively_make_axes_transparent(stack, ax)\n\u001b[32m-> \u001b[39m\u001b[32m3490\u001b[39m \u001b[38;5;28;43mself\u001b[39;49m\u001b[43m.\u001b[49m\u001b[43mcanvas\u001b[49m\u001b[43m.\u001b[49m\u001b[43mprint_figure\u001b[49m\u001b[43m(\u001b[49m\u001b[43mfname\u001b[49m\u001b[43m,\u001b[49m\u001b[43m \u001b[49m\u001b[43m*\u001b[49m\u001b[43m*\u001b[49m\u001b[43mkwargs\u001b[49m\u001b[43m)\u001b[49m\n",
      "\u001b[36mFile \u001b[39m\u001b[32m~/Programming/deep-ml/Deep-Machine-Learning-Project/.venv/lib/python3.11/site-packages/matplotlib/backend_bases.py:2186\u001b[39m, in \u001b[36mFigureCanvasBase.print_figure\u001b[39m\u001b[34m(self, filename, dpi, facecolor, edgecolor, orientation, format, bbox_inches, pad_inches, bbox_extra_artists, backend, **kwargs)\u001b[39m\n\u001b[32m   2182\u001b[39m \u001b[38;5;28;01mtry\u001b[39;00m:\n\u001b[32m   2183\u001b[39m     \u001b[38;5;66;03m# _get_renderer may change the figure dpi (as vector formats\u001b[39;00m\n\u001b[32m   2184\u001b[39m     \u001b[38;5;66;03m# force the figure dpi to 72), so we need to set it again here.\u001b[39;00m\n\u001b[32m   2185\u001b[39m     \u001b[38;5;28;01mwith\u001b[39;00m cbook._setattr_cm(\u001b[38;5;28mself\u001b[39m.figure, dpi=dpi):\n\u001b[32m-> \u001b[39m\u001b[32m2186\u001b[39m         result = \u001b[43mprint_method\u001b[49m\u001b[43m(\u001b[49m\n\u001b[32m   2187\u001b[39m \u001b[43m            \u001b[49m\u001b[43mfilename\u001b[49m\u001b[43m,\u001b[49m\n\u001b[32m   2188\u001b[39m \u001b[43m            \u001b[49m\u001b[43mfacecolor\u001b[49m\u001b[43m=\u001b[49m\u001b[43mfacecolor\u001b[49m\u001b[43m,\u001b[49m\n\u001b[32m   2189\u001b[39m \u001b[43m            \u001b[49m\u001b[43medgecolor\u001b[49m\u001b[43m=\u001b[49m\u001b[43medgecolor\u001b[49m\u001b[43m,\u001b[49m\n\u001b[32m   2190\u001b[39m \u001b[43m            \u001b[49m\u001b[43morientation\u001b[49m\u001b[43m=\u001b[49m\u001b[43morientation\u001b[49m\u001b[43m,\u001b[49m\n\u001b[32m   2191\u001b[39m \u001b[43m            \u001b[49m\u001b[43mbbox_inches_restore\u001b[49m\u001b[43m=\u001b[49m\u001b[43m_bbox_inches_restore\u001b[49m\u001b[43m,\u001b[49m\n\u001b[32m   2192\u001b[39m \u001b[43m            \u001b[49m\u001b[43m*\u001b[49m\u001b[43m*\u001b[49m\u001b[43mkwargs\u001b[49m\u001b[43m)\u001b[49m\n\u001b[32m   2193\u001b[39m \u001b[38;5;28;01mfinally\u001b[39;00m:\n\u001b[32m   2194\u001b[39m     \u001b[38;5;28;01mif\u001b[39;00m bbox_inches \u001b[38;5;129;01mand\u001b[39;00m restore_bbox:\n",
      "\u001b[36mFile \u001b[39m\u001b[32m~/Programming/deep-ml/Deep-Machine-Learning-Project/.venv/lib/python3.11/site-packages/matplotlib/backend_bases.py:2042\u001b[39m, in \u001b[36mFigureCanvasBase._switch_canvas_and_return_print_method.<locals>.<lambda>\u001b[39m\u001b[34m(*args, **kwargs)\u001b[39m\n\u001b[32m   2038\u001b[39m     optional_kws = {  \u001b[38;5;66;03m# Passed by print_figure for other renderers.\u001b[39;00m\n\u001b[32m   2039\u001b[39m         \u001b[33m\"\u001b[39m\u001b[33mdpi\u001b[39m\u001b[33m\"\u001b[39m, \u001b[33m\"\u001b[39m\u001b[33mfacecolor\u001b[39m\u001b[33m\"\u001b[39m, \u001b[33m\"\u001b[39m\u001b[33medgecolor\u001b[39m\u001b[33m\"\u001b[39m, \u001b[33m\"\u001b[39m\u001b[33morientation\u001b[39m\u001b[33m\"\u001b[39m,\n\u001b[32m   2040\u001b[39m         \u001b[33m\"\u001b[39m\u001b[33mbbox_inches_restore\u001b[39m\u001b[33m\"\u001b[39m}\n\u001b[32m   2041\u001b[39m     skip = optional_kws - {*inspect.signature(meth).parameters}\n\u001b[32m-> \u001b[39m\u001b[32m2042\u001b[39m     print_method = functools.wraps(meth)(\u001b[38;5;28;01mlambda\u001b[39;00m *args, **kwargs: \u001b[43mmeth\u001b[49m\u001b[43m(\u001b[49m\n\u001b[32m   2043\u001b[39m \u001b[43m        \u001b[49m\u001b[43m*\u001b[49m\u001b[43margs\u001b[49m\u001b[43m,\u001b[49m\u001b[43m \u001b[49m\u001b[43m*\u001b[49m\u001b[43m*\u001b[49m\u001b[43m{\u001b[49m\u001b[43mk\u001b[49m\u001b[43m:\u001b[49m\u001b[43m \u001b[49m\u001b[43mv\u001b[49m\u001b[43m \u001b[49m\u001b[38;5;28;43;01mfor\u001b[39;49;00m\u001b[43m \u001b[49m\u001b[43mk\u001b[49m\u001b[43m,\u001b[49m\u001b[43m \u001b[49m\u001b[43mv\u001b[49m\u001b[43m \u001b[49m\u001b[38;5;129;43;01min\u001b[39;49;00m\u001b[43m \u001b[49m\u001b[43mkwargs\u001b[49m\u001b[43m.\u001b[49m\u001b[43mitems\u001b[49m\u001b[43m(\u001b[49m\u001b[43m)\u001b[49m\u001b[43m \u001b[49m\u001b[38;5;28;43;01mif\u001b[39;49;00m\u001b[43m \u001b[49m\u001b[43mk\u001b[49m\u001b[43m \u001b[49m\u001b[38;5;129;43;01mnot\u001b[39;49;00m\u001b[43m \u001b[49m\u001b[38;5;129;43;01min\u001b[39;49;00m\u001b[43m \u001b[49m\u001b[43mskip\u001b[49m\u001b[43m}\u001b[49m\u001b[43m)\u001b[49m)\n\u001b[32m   2044\u001b[39m \u001b[38;5;28;01melse\u001b[39;00m:  \u001b[38;5;66;03m# Let third-parties do as they see fit.\u001b[39;00m\n\u001b[32m   2045\u001b[39m     print_method = meth\n",
      "\u001b[36mFile \u001b[39m\u001b[32m~/Programming/deep-ml/Deep-Machine-Learning-Project/.venv/lib/python3.11/site-packages/matplotlib/backends/backend_agg.py:481\u001b[39m, in \u001b[36mFigureCanvasAgg.print_png\u001b[39m\u001b[34m(self, filename_or_obj, metadata, pil_kwargs)\u001b[39m\n\u001b[32m    434\u001b[39m \u001b[38;5;28;01mdef\u001b[39;00m\u001b[38;5;250m \u001b[39m\u001b[34mprint_png\u001b[39m(\u001b[38;5;28mself\u001b[39m, filename_or_obj, *, metadata=\u001b[38;5;28;01mNone\u001b[39;00m, pil_kwargs=\u001b[38;5;28;01mNone\u001b[39;00m):\n\u001b[32m    435\u001b[39m \u001b[38;5;250m    \u001b[39m\u001b[33;03m\"\"\"\u001b[39;00m\n\u001b[32m    436\u001b[39m \u001b[33;03m    Write the figure to a PNG file.\u001b[39;00m\n\u001b[32m    437\u001b[39m \n\u001b[32m   (...)\u001b[39m\u001b[32m    479\u001b[39m \u001b[33;03m        *metadata*, including the default 'Software' key.\u001b[39;00m\n\u001b[32m    480\u001b[39m \u001b[33;03m    \"\"\"\u001b[39;00m\n\u001b[32m--> \u001b[39m\u001b[32m481\u001b[39m     \u001b[38;5;28;43mself\u001b[39;49m\u001b[43m.\u001b[49m\u001b[43m_print_pil\u001b[49m\u001b[43m(\u001b[49m\u001b[43mfilename_or_obj\u001b[49m\u001b[43m,\u001b[49m\u001b[43m \u001b[49m\u001b[33;43m\"\u001b[39;49m\u001b[33;43mpng\u001b[39;49m\u001b[33;43m\"\u001b[39;49m\u001b[43m,\u001b[49m\u001b[43m \u001b[49m\u001b[43mpil_kwargs\u001b[49m\u001b[43m,\u001b[49m\u001b[43m \u001b[49m\u001b[43mmetadata\u001b[49m\u001b[43m)\u001b[49m\n",
      "\u001b[36mFile \u001b[39m\u001b[32m~/Programming/deep-ml/Deep-Machine-Learning-Project/.venv/lib/python3.11/site-packages/matplotlib/backends/backend_agg.py:430\u001b[39m, in \u001b[36mFigureCanvasAgg._print_pil\u001b[39m\u001b[34m(self, filename_or_obj, fmt, pil_kwargs, metadata)\u001b[39m\n\u001b[32m    425\u001b[39m \u001b[38;5;250m\u001b[39m\u001b[33;03m\"\"\"\u001b[39;00m\n\u001b[32m    426\u001b[39m \u001b[33;03mDraw the canvas, then save it using `.image.imsave` (to which\u001b[39;00m\n\u001b[32m    427\u001b[39m \u001b[33;03m*pil_kwargs* and *metadata* are forwarded).\u001b[39;00m\n\u001b[32m    428\u001b[39m \u001b[33;03m\"\"\"\u001b[39;00m\n\u001b[32m    429\u001b[39m FigureCanvasAgg.draw(\u001b[38;5;28mself\u001b[39m)\n\u001b[32m--> \u001b[39m\u001b[32m430\u001b[39m \u001b[43mmpl\u001b[49m\u001b[43m.\u001b[49m\u001b[43mimage\u001b[49m\u001b[43m.\u001b[49m\u001b[43mimsave\u001b[49m\u001b[43m(\u001b[49m\n\u001b[32m    431\u001b[39m \u001b[43m    \u001b[49m\u001b[43mfilename_or_obj\u001b[49m\u001b[43m,\u001b[49m\u001b[43m \u001b[49m\u001b[38;5;28;43mself\u001b[39;49m\u001b[43m.\u001b[49m\u001b[43mbuffer_rgba\u001b[49m\u001b[43m(\u001b[49m\u001b[43m)\u001b[49m\u001b[43m,\u001b[49m\u001b[43m \u001b[49m\u001b[38;5;28;43mformat\u001b[39;49m\u001b[43m=\u001b[49m\u001b[43mfmt\u001b[49m\u001b[43m,\u001b[49m\u001b[43m \u001b[49m\u001b[43morigin\u001b[49m\u001b[43m=\u001b[49m\u001b[33;43m\"\u001b[39;49m\u001b[33;43mupper\u001b[39;49m\u001b[33;43m\"\u001b[39;49m\u001b[43m,\u001b[49m\n\u001b[32m    432\u001b[39m \u001b[43m    \u001b[49m\u001b[43mdpi\u001b[49m\u001b[43m=\u001b[49m\u001b[38;5;28;43mself\u001b[39;49m\u001b[43m.\u001b[49m\u001b[43mfigure\u001b[49m\u001b[43m.\u001b[49m\u001b[43mdpi\u001b[49m\u001b[43m,\u001b[49m\u001b[43m \u001b[49m\u001b[43mmetadata\u001b[49m\u001b[43m=\u001b[49m\u001b[43mmetadata\u001b[49m\u001b[43m,\u001b[49m\u001b[43m \u001b[49m\u001b[43mpil_kwargs\u001b[49m\u001b[43m=\u001b[49m\u001b[43mpil_kwargs\u001b[49m\u001b[43m)\u001b[49m\n",
      "\u001b[36mFile \u001b[39m\u001b[32m~/Programming/deep-ml/Deep-Machine-Learning-Project/.venv/lib/python3.11/site-packages/matplotlib/image.py:1657\u001b[39m, in \u001b[36mimsave\u001b[39m\u001b[34m(fname, arr, vmin, vmax, cmap, format, origin, dpi, metadata, pil_kwargs)\u001b[39m\n\u001b[32m   1655\u001b[39m pil_kwargs.setdefault(\u001b[33m\"\u001b[39m\u001b[33mformat\u001b[39m\u001b[33m\"\u001b[39m, \u001b[38;5;28mformat\u001b[39m)\n\u001b[32m   1656\u001b[39m pil_kwargs.setdefault(\u001b[33m\"\u001b[39m\u001b[33mdpi\u001b[39m\u001b[33m\"\u001b[39m, (dpi, dpi))\n\u001b[32m-> \u001b[39m\u001b[32m1657\u001b[39m \u001b[43mimage\u001b[49m\u001b[43m.\u001b[49m\u001b[43msave\u001b[49m\u001b[43m(\u001b[49m\u001b[43mfname\u001b[49m\u001b[43m,\u001b[49m\u001b[43m \u001b[49m\u001b[43m*\u001b[49m\u001b[43m*\u001b[49m\u001b[43mpil_kwargs\u001b[49m\u001b[43m)\u001b[49m\n",
      "\u001b[36mFile \u001b[39m\u001b[32m~/Programming/deep-ml/Deep-Machine-Learning-Project/.venv/lib/python3.11/site-packages/PIL/Image.py:2566\u001b[39m, in \u001b[36mImage.save\u001b[39m\u001b[34m(self, fp, format, **params)\u001b[39m\n\u001b[32m   2564\u001b[39m         fp = builtins.open(filename, \u001b[33m\"\u001b[39m\u001b[33mr+b\u001b[39m\u001b[33m\"\u001b[39m)\n\u001b[32m   2565\u001b[39m     \u001b[38;5;28;01melse\u001b[39;00m:\n\u001b[32m-> \u001b[39m\u001b[32m2566\u001b[39m         fp = \u001b[43mbuiltins\u001b[49m\u001b[43m.\u001b[49m\u001b[43mopen\u001b[49m\u001b[43m(\u001b[49m\u001b[43mfilename\u001b[49m\u001b[43m,\u001b[49m\u001b[43m \u001b[49m\u001b[33;43m\"\u001b[39;49m\u001b[33;43mw+b\u001b[39;49m\u001b[33;43m\"\u001b[39;49m\u001b[43m)\u001b[49m\n\u001b[32m   2567\u001b[39m \u001b[38;5;28;01melse\u001b[39;00m:\n\u001b[32m   2568\u001b[39m     fp = cast(IO[\u001b[38;5;28mbytes\u001b[39m], fp)\n",
      "\u001b[31mFileNotFoundError\u001b[39m: [Errno 2] No such file or directory: '../checkpoints/per_class_metrics.png'"
     ]
    },
    {
     "data": {
      "image/png": "[encoded data removed]",
      "text/plain": [
       "<Figure size 1400x600 with 1 Axes>"
      ]
     },
     "metadata": {},
     "output_type": "display_data"
    }
   ],
   "source": [
    "# Create bar chart of per-class metrics\n",
    "class_names_plot = ['Epidural', 'Intraparenchymal', 'Intraventricular', 'Subarachnoid', 'Subdural']\n",
    "class_names_key = ['epidural', 'intraparenchymal', 'intraventricular', 'subarachnoid', 'subdural']\n",
    "\n",
    "# Extract metrics\n",
    "precisions = [test_metrics[f'precision_{name}'] for name in class_names_key]\n",
    "recalls = [test_metrics[f'recall_{name}'] for name in class_names_key]\n",
    "f1_scores = [test_metrics[f'f1_{name}'] for name in class_names_key]\n",
    "aucs = [test_metrics.get(f'auc_roc_{name}', 0) for name in class_names_key]\n",
    "\n",
    "# Plot\n",
    "x = np.arange(len(class_names_plot))\n",
    "width = 0.2\n",
    "\n",
    "fig, ax = plt.subplots(figsize=(14, 6))\n",
    "ax.bar(x - 1.5*width, precisions, width, label='Precision', color='#3498db')\n",
    "ax.bar(x - 0.5*width, recalls, width, label='Recall', color='#e74c3c')\n",
    "ax.bar(x + 0.5*width, f1_scores, width, label='F1-Score', color='#2ecc71')\n",
    "ax.bar(x + 1.5*width, aucs, width, label='AUC-ROC', color='#9b59b6')\n",
    "\n",
    "ax.set_xlabel('Hemorrhage Type', fontsize=12)\n",
    "ax.set_ylabel('Score', fontsize=12)\n",
    "ax.set_title('Per-Class Performance Metrics', fontsize=14, fontweight='bold')\n",
    "ax.set_xticks(x)\n",
    "ax.set_xticklabels(class_names_plot, rotation=45, ha='right')\n",
    "ax.legend()\n",
    "ax.grid(axis='y', alpha=0.3)\n",
    "ax.set_ylim([0, 1])\n",
    "\n",
    "plt.tight_layout()\n",
    "plt.savefig('../checkpoints/per_class_metrics.png', dpi=150, bbox_inches='tight')\n",
    "plt.show()\n",
    "\n",
    "# Log to W&B\n",
    "if USE_WANDB:\n",
    "    wandb.log({\"per_class_metrics\": wandb.Image(plt)})\n"
   ]
  },
  {
   "cell_type": "code",
   "execution_count": 12,
   "metadata": {},
   "outputs": [
    {
     "name": "stdout",
     "output_type": "stream",
     "text": [
      "✓ Results saved to checkpoints/test_results.json\n",
      "\n",
      "================================================================================\n",
      "FINAL RESULTS SUMMARY\n",
      "================================================================================\n",
      "\n",
      "Overall Performance:\n",
      "  AUC-ROC (Macro):      0.8886\n",
      "  AUC-ROC (Weighted):   0.8956\n",
      "  F1-Score (Macro):     0.6554\n",
      "  Exact Match Accuracy: 0.5153\n",
      "  Hamming Accuracy:     0.8550\n",
      "\n",
      "================================================================================\n",
      "\n"
     ]
    },
    {
     "data": {
      "text/html": [],
      "text/plain": [
       "<IPython.core.display.HTML object>"
      ]
     },
     "metadata": {},
     "output_type": "display_data"
    },
    {
     "data": {
      "text/html": [
       "<br>    <style><br>        .wandb-row {<br>            display: flex;<br>            flex-direction: row;<br>            flex-wrap: wrap;<br>            justify-content: flex-start;<br>            width: 100%;<br>        }<br>        .wandb-col {<br>            display: flex;<br>            flex-direction: column;<br>            flex-basis: 100%;<br>            flex: 1;<br>            padding: 10px;<br>        }<br>    </style><br><div class=\"wandb-row\"><div class=\"wandb-col\"><h3>Run history:</h3><br/><table class=\"wandb\"><tr><td>test/accuracy_exact</td><td>▁</td></tr><tr><td>test/accuracy_hamming</td><td>▁</td></tr><tr><td>test/auc_roc_epidural</td><td>▁</td></tr><tr><td>test/auc_roc_intraparenchymal</td><td>▁</td></tr><tr><td>test/auc_roc_intraventricular</td><td>▁</td></tr><tr><td>test/auc_roc_macro</td><td>▁</td></tr><tr><td>test/auc_roc_micro</td><td>▁</td></tr><tr><td>test/auc_roc_subarachnoid</td><td>▁</td></tr><tr><td>test/auc_roc_subdural</td><td>▁</td></tr><tr><td>test/auc_roc_weighted</td><td>▁</td></tr><tr><td>+27</td><td>...</td></tr></table><br/></div><div class=\"wandb-col\"><h3>Run summary:</h3><br/><table class=\"wandb\"><tr><td>test/accuracy_exact</td><td>0.51528</td></tr><tr><td>test/accuracy_hamming</td><td>0.85502</td></tr><tr><td>test/auc_roc_epidural</td><td>0.84028</td></tr><tr><td>test/auc_roc_intraparenchymal</td><td>0.89878</td></tr><tr><td>test/auc_roc_intraventricular</td><td>0.95159</td></tr><tr><td>test/auc_roc_macro</td><td>0.88857</td></tr><tr><td>test/auc_roc_micro</td><td>0.90699</td></tr><tr><td>test/auc_roc_subarachnoid</td><td>0.85809</td></tr><tr><td>test/auc_roc_subdural</td><td>0.89412</td></tr><tr><td>test/auc_roc_weighted</td><td>0.89558</td></tr><tr><td>+27</td><td>...</td></tr></table><br/></div></div>"
      ],
      "text/plain": [
       "<IPython.core.display.HTML object>"
      ]
     },
     "metadata": {},
     "output_type": "display_data"
    },
    {
     "data": {
      "text/html": [
       " View run <strong style=\"color:#cdcd00\">vit_ich_training</strong> at: <a href='https://wandb.ai/felixbj-chalmers-university-of-technology/Deep%20Machine%20Learning%20Project/runs/moou6gfw' target=\"_blank\">https://wandb.ai/felixbj-chalmers-university-of-technology/Deep%20Machine%20Learning%20Project/runs/moou6gfw</a><br> View project at: <a href='https://wandb.ai/felixbj-chalmers-university-of-technology/Deep%20Machine%20Learning%20Project' target=\"_blank\">https://wandb.ai/felixbj-chalmers-university-of-technology/Deep%20Machine%20Learning%20Project</a><br>Synced 5 W&B file(s), 0 media file(s), 0 artifact file(s) and 0 other file(s)"
      ],
      "text/plain": [
       "<IPython.core.display.HTML object>"
      ]
     },
     "metadata": {},
     "output_type": "display_data"
    },
    {
     "data": {
      "text/html": [
       "Find logs at: <code>./wandb/run-20251020_123112-moou6gfw/logs</code>"
      ],
      "text/plain": [
       "<IPython.core.display.HTML object>"
      ]
     },
     "metadata": {},
     "output_type": "display_data"
    },
    {
     "name": "stdout",
     "output_type": "stream",
     "text": [
      "✓ W&B run finished\n"
     ]
    }
   ],
   "source": [
    "# Save test metrics to JSON\n",
    "results = {\n",
    "    'model': config['model']['name'],\n",
    "    'test_metrics': {k: float(v) if isinstance(v, (np.floating, float)) else v \n",
    "                     for k, v in test_metrics.items()},\n",
    "    'config': config\n",
    "}\n",
    "\n",
    "results_path = Path('./checkpoints/test_results.json')\n",
    "with open(results_path, 'w') as f:\n",
    "    json.dump(results, f, indent=2)\n",
    "\n",
    "print(f\"✓ Results saved to {results_path}\")\n",
    "\n",
    "# Print summary\n",
    "print(\"\\n\" + \"=\"*80)\n",
    "print(\"FINAL RESULTS SUMMARY\")\n",
    "print(\"=\"*80)\n",
    "print(f\"\\nOverall Performance:\")\n",
    "print(f\"  AUC-ROC (Macro):      {test_metrics['auc_roc_macro']:.4f}\")\n",
    "print(f\"  AUC-ROC (Weighted):   {test_metrics.get('auc_roc_weighted', 0):.4f}\")\n",
    "print(f\"  F1-Score (Macro):     {test_metrics['f1_macro']:.4f}\")\n",
    "print(f\"  Exact Match Accuracy: {test_metrics['accuracy_exact']:.4f}\")\n",
    "print(f\"  Hamming Accuracy:     {test_metrics['accuracy_hamming']:.4f}\")\n",
    "print(\"\\n\" + \"=\"*80 + \"\\n\")\n",
    "\n",
    "# Finish W&B run\n",
    "if USE_WANDB:\n",
    "    wandb.finish()\n",
    "    print(\"✓ W&B run finished\")\n"
   ]
  }
 ],
 "metadata": {
  "kernelspec": {
   "display_name": "tfg-noah",
   "language": "python",
   "name": "python3"
  },
  "language_info": {
   "codemirror_mode": {
    "name": "ipython",
    "version": 3
   },
   "file_extension": ".py",
   "mimetype": "text/x-python",
   "name": "python",
   "nbconvert_exporter": "python",
   "pygments_lexer": "ipython3",
   "version": "3.10.13"
  }
 },
 "nbformat": 4,
 "nbformat_minor": 4
}
